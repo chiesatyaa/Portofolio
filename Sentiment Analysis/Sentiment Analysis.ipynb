{
 "cells": [
  {
   "cell_type": "code",
   "execution_count": 91,
   "id": "f2657aaf-fdfd-41e2-aafc-801a71a75586",
   "metadata": {},
   "outputs": [],
   "source": [
    "import pandas as pd\n",
    "import numpy as np\n",
    "import matplotlib.pyplot as plt\n",
    "import seaborn as sns\n",
    "import tensorflow as tf\n",
    "import nltk\n",
    "import os\n",
    "\n",
    "os.environ[\"HF_HUB_DISABLE_SYMLINKS_WARNING\"] = \"1\"\n",
    "sns.set()"
   ]
  },
  {
   "cell_type": "code",
   "execution_count": 92,
   "id": "12de49f5-2022-4fbd-879a-0d806ef44119",
   "metadata": {},
   "outputs": [],
   "source": [
    "df1 = pd.read_csv('makan_gratis.csv')\n",
    "df2 = pd.read_csv('presiden.csv')\n",
    "df3 = pd.read_csv('makan_gratis.old.csv')"
   ]
  },
  {
   "cell_type": "code",
   "execution_count": 93,
   "id": "89b2e9e4-a922-4eb1-979f-7d98a22bf780",
   "metadata": {},
   "outputs": [
    {
     "data": {
      "text/html": [
       "<div>\n",
       "<style scoped>\n",
       "    .dataframe tbody tr th:only-of-type {\n",
       "        vertical-align: middle;\n",
       "    }\n",
       "\n",
       "    .dataframe tbody tr th {\n",
       "        vertical-align: top;\n",
       "    }\n",
       "\n",
       "    .dataframe thead th {\n",
       "        text-align: right;\n",
       "    }\n",
       "</style>\n",
       "<table border=\"1\" class=\"dataframe\">\n",
       "  <thead>\n",
       "    <tr style=\"text-align: right;\">\n",
       "      <th></th>\n",
       "      <th>conversation_id_str</th>\n",
       "      <th>created_at</th>\n",
       "      <th>favorite_count</th>\n",
       "      <th>full_text</th>\n",
       "      <th>id_str</th>\n",
       "      <th>image_url</th>\n",
       "      <th>in_reply_to_screen_name</th>\n",
       "      <th>lang</th>\n",
       "      <th>location</th>\n",
       "      <th>quote_count</th>\n",
       "      <th>reply_count</th>\n",
       "      <th>retweet_count</th>\n",
       "      <th>tweet_url</th>\n",
       "      <th>user_id_str</th>\n",
       "      <th>username</th>\n",
       "    </tr>\n",
       "  </thead>\n",
       "  <tbody>\n",
       "    <tr>\n",
       "      <th>0</th>\n",
       "      <td>1861387822269374894</td>\n",
       "      <td>Tue Nov 26 23:59:13 +0000 2024</td>\n",
       "      <td>0</td>\n",
       "      <td>@tvOneNews DANANYA ADA? BUAT PROGRAM MAKAN SIA...</td>\n",
       "      <td>1861560370994798888</td>\n",
       "      <td>NaN</td>\n",
       "      <td>tvOneNews</td>\n",
       "      <td>in</td>\n",
       "      <td>NaN</td>\n",
       "      <td>0</td>\n",
       "      <td>0</td>\n",
       "      <td>0</td>\n",
       "      <td>https://x.com/ZahidFaoziah/status/186156037099...</td>\n",
       "      <td>1592022417290862593</td>\n",
       "      <td>ZahidFaoziah</td>\n",
       "    </tr>\n",
       "    <tr>\n",
       "      <th>1</th>\n",
       "      <td>1860834003542216759</td>\n",
       "      <td>Tue Nov 26 23:58:57 +0000 2024</td>\n",
       "      <td>0</td>\n",
       "      <td>@kegblgnunfaedh Supaya kalian Tau ..ada 2 prog...</td>\n",
       "      <td>1861560306339848404</td>\n",
       "      <td>NaN</td>\n",
       "      <td>kegblgnunfaedh</td>\n",
       "      <td>in</td>\n",
       "      <td>Denpasar Selatan, Indonesia</td>\n",
       "      <td>0</td>\n",
       "      <td>1</td>\n",
       "      <td>0</td>\n",
       "      <td>https://x.com/araapriani78/status/186156030633...</td>\n",
       "      <td>1900014060</td>\n",
       "      <td>araapriani78</td>\n",
       "    </tr>\n",
       "    <tr>\n",
       "      <th>2</th>\n",
       "      <td>1861394482924789848</td>\n",
       "      <td>Tue Nov 26 23:53:41 +0000 2024</td>\n",
       "      <td>0</td>\n",
       "      <td>@CNNIndonesia Lebih baik tidak usah dipaksakan...</td>\n",
       "      <td>1861558981417939075</td>\n",
       "      <td>NaN</td>\n",
       "      <td>CNNIndonesia</td>\n",
       "      <td>in</td>\n",
       "      <td>Ciamis, Jawa Barat, Indonesia</td>\n",
       "      <td>0</td>\n",
       "      <td>0</td>\n",
       "      <td>0</td>\n",
       "      <td>https://x.com/MIBarokah/status/186155898141793...</td>\n",
       "      <td>400103820</td>\n",
       "      <td>MIBarokah</td>\n",
       "    </tr>\n",
       "    <tr>\n",
       "      <th>3</th>\n",
       "      <td>1861417843788771442</td>\n",
       "      <td>Tue Nov 26 23:36:30 +0000 2024</td>\n",
       "      <td>2</td>\n",
       "      <td>@NenkMonica Rakyat tidak BUTUH makan Siang Gra...</td>\n",
       "      <td>1861554655878414655</td>\n",
       "      <td>NaN</td>\n",
       "      <td>NenkMonica</td>\n",
       "      <td>in</td>\n",
       "      <td>NaN</td>\n",
       "      <td>0</td>\n",
       "      <td>0</td>\n",
       "      <td>1</td>\n",
       "      <td>https://x.com/BL3H0_212/status/186155465587841...</td>\n",
       "      <td>1570037996145213440</td>\n",
       "      <td>BL3H0_212</td>\n",
       "    </tr>\n",
       "    <tr>\n",
       "      <th>4</th>\n",
       "      <td>1861381567089881311</td>\n",
       "      <td>Tue Nov 26 23:33:44 +0000 2024</td>\n",
       "      <td>1</td>\n",
       "      <td>@farizzlfdhl Tidak ada makan siang yg benar2 g...</td>\n",
       "      <td>1861553959762305309</td>\n",
       "      <td>NaN</td>\n",
       "      <td>farizzlfdhl</td>\n",
       "      <td>in</td>\n",
       "      <td>Zimbabwe</td>\n",
       "      <td>0</td>\n",
       "      <td>0</td>\n",
       "      <td>0</td>\n",
       "      <td>https://x.com/twkongko/status/1861553959762305309</td>\n",
       "      <td>179869955</td>\n",
       "      <td>twkongko</td>\n",
       "    </tr>\n",
       "  </tbody>\n",
       "</table>\n",
       "</div>"
      ],
      "text/plain": [
       "   conversation_id_str                      created_at  favorite_count  \\\n",
       "0  1861387822269374894  Tue Nov 26 23:59:13 +0000 2024               0   \n",
       "1  1860834003542216759  Tue Nov 26 23:58:57 +0000 2024               0   \n",
       "2  1861394482924789848  Tue Nov 26 23:53:41 +0000 2024               0   \n",
       "3  1861417843788771442  Tue Nov 26 23:36:30 +0000 2024               2   \n",
       "4  1861381567089881311  Tue Nov 26 23:33:44 +0000 2024               1   \n",
       "\n",
       "                                           full_text               id_str  \\\n",
       "0  @tvOneNews DANANYA ADA? BUAT PROGRAM MAKAN SIA...  1861560370994798888   \n",
       "1  @kegblgnunfaedh Supaya kalian Tau ..ada 2 prog...  1861560306339848404   \n",
       "2  @CNNIndonesia Lebih baik tidak usah dipaksakan...  1861558981417939075   \n",
       "3  @NenkMonica Rakyat tidak BUTUH makan Siang Gra...  1861554655878414655   \n",
       "4  @farizzlfdhl Tidak ada makan siang yg benar2 g...  1861553959762305309   \n",
       "\n",
       "  image_url in_reply_to_screen_name lang                       location  \\\n",
       "0       NaN               tvOneNews   in                            NaN   \n",
       "1       NaN          kegblgnunfaedh   in    Denpasar Selatan, Indonesia   \n",
       "2       NaN            CNNIndonesia   in  Ciamis, Jawa Barat, Indonesia   \n",
       "3       NaN              NenkMonica   in                            NaN   \n",
       "4       NaN             farizzlfdhl   in                       Zimbabwe   \n",
       "\n",
       "   quote_count  reply_count  retweet_count  \\\n",
       "0            0            0              0   \n",
       "1            0            1              0   \n",
       "2            0            0              0   \n",
       "3            0            0              1   \n",
       "4            0            0              0   \n",
       "\n",
       "                                           tweet_url          user_id_str  \\\n",
       "0  https://x.com/ZahidFaoziah/status/186156037099...  1592022417290862593   \n",
       "1  https://x.com/araapriani78/status/186156030633...           1900014060   \n",
       "2  https://x.com/MIBarokah/status/186155898141793...            400103820   \n",
       "3  https://x.com/BL3H0_212/status/186155465587841...  1570037996145213440   \n",
       "4  https://x.com/twkongko/status/1861553959762305309            179869955   \n",
       "\n",
       "       username  \n",
       "0  ZahidFaoziah  \n",
       "1  araapriani78  \n",
       "2     MIBarokah  \n",
       "3     BL3H0_212  \n",
       "4      twkongko  "
      ]
     },
     "execution_count": 93,
     "metadata": {},
     "output_type": "execute_result"
    }
   ],
   "source": [
    "df1.head()"
   ]
  },
  {
   "cell_type": "code",
   "execution_count": 94,
   "id": "3a99a9ec-f03e-4842-9296-d87edd262d8e",
   "metadata": {},
   "outputs": [
    {
     "data": {
      "text/html": [
       "<div>\n",
       "<style scoped>\n",
       "    .dataframe tbody tr th:only-of-type {\n",
       "        vertical-align: middle;\n",
       "    }\n",
       "\n",
       "    .dataframe tbody tr th {\n",
       "        vertical-align: top;\n",
       "    }\n",
       "\n",
       "    .dataframe thead th {\n",
       "        text-align: right;\n",
       "    }\n",
       "</style>\n",
       "<table border=\"1\" class=\"dataframe\">\n",
       "  <thead>\n",
       "    <tr style=\"text-align: right;\">\n",
       "      <th></th>\n",
       "      <th>conversation_id_str</th>\n",
       "      <th>created_at</th>\n",
       "      <th>favorite_count</th>\n",
       "      <th>full_text</th>\n",
       "      <th>id_str</th>\n",
       "      <th>image_url</th>\n",
       "      <th>in_reply_to_screen_name</th>\n",
       "      <th>lang</th>\n",
       "      <th>location</th>\n",
       "      <th>quote_count</th>\n",
       "      <th>reply_count</th>\n",
       "      <th>retweet_count</th>\n",
       "      <th>tweet_url</th>\n",
       "      <th>user_id_str</th>\n",
       "      <th>username</th>\n",
       "    </tr>\n",
       "  </thead>\n",
       "  <tbody>\n",
       "    <tr>\n",
       "      <th>0</th>\n",
       "      <td>1861387822269374894</td>\n",
       "      <td>Tue Nov 26 23:59:13 +0000 2024</td>\n",
       "      <td>0</td>\n",
       "      <td>@tvOneNews DANANYA ADA? BUAT PROGRAM MAKAN SIA...</td>\n",
       "      <td>1861560370994798888</td>\n",
       "      <td>NaN</td>\n",
       "      <td>tvOneNews</td>\n",
       "      <td>in</td>\n",
       "      <td>NaN</td>\n",
       "      <td>0</td>\n",
       "      <td>0</td>\n",
       "      <td>0</td>\n",
       "      <td>https://x.com/ZahidFaoziah/status/186156037099...</td>\n",
       "      <td>1592022417290862593</td>\n",
       "      <td>ZahidFaoziah</td>\n",
       "    </tr>\n",
       "    <tr>\n",
       "      <th>1</th>\n",
       "      <td>1860834003542216759</td>\n",
       "      <td>Tue Nov 26 23:58:57 +0000 2024</td>\n",
       "      <td>0</td>\n",
       "      <td>@kegblgnunfaedh Supaya kalian Tau ..ada 2 prog...</td>\n",
       "      <td>1861560306339848404</td>\n",
       "      <td>NaN</td>\n",
       "      <td>kegblgnunfaedh</td>\n",
       "      <td>in</td>\n",
       "      <td>Denpasar Selatan, Indonesia</td>\n",
       "      <td>0</td>\n",
       "      <td>1</td>\n",
       "      <td>0</td>\n",
       "      <td>https://x.com/araapriani78/status/186156030633...</td>\n",
       "      <td>1900014060</td>\n",
       "      <td>araapriani78</td>\n",
       "    </tr>\n",
       "    <tr>\n",
       "      <th>2</th>\n",
       "      <td>1861394482924789848</td>\n",
       "      <td>Tue Nov 26 23:53:41 +0000 2024</td>\n",
       "      <td>0</td>\n",
       "      <td>@CNNIndonesia Lebih baik tidak usah dipaksakan...</td>\n",
       "      <td>1861558981417939075</td>\n",
       "      <td>NaN</td>\n",
       "      <td>CNNIndonesia</td>\n",
       "      <td>in</td>\n",
       "      <td>Ciamis, Jawa Barat, Indonesia</td>\n",
       "      <td>0</td>\n",
       "      <td>0</td>\n",
       "      <td>0</td>\n",
       "      <td>https://x.com/MIBarokah/status/186155898141793...</td>\n",
       "      <td>400103820</td>\n",
       "      <td>MIBarokah</td>\n",
       "    </tr>\n",
       "    <tr>\n",
       "      <th>3</th>\n",
       "      <td>1861417843788771442</td>\n",
       "      <td>Tue Nov 26 23:36:30 +0000 2024</td>\n",
       "      <td>2</td>\n",
       "      <td>@NenkMonica Rakyat tidak BUTUH makan Siang Gra...</td>\n",
       "      <td>1861554655878414655</td>\n",
       "      <td>NaN</td>\n",
       "      <td>NenkMonica</td>\n",
       "      <td>in</td>\n",
       "      <td>NaN</td>\n",
       "      <td>0</td>\n",
       "      <td>0</td>\n",
       "      <td>1</td>\n",
       "      <td>https://x.com/BL3H0_212/status/186155465587841...</td>\n",
       "      <td>1570037996145213440</td>\n",
       "      <td>BL3H0_212</td>\n",
       "    </tr>\n",
       "    <tr>\n",
       "      <th>4</th>\n",
       "      <td>1861381567089881311</td>\n",
       "      <td>Tue Nov 26 23:33:44 +0000 2024</td>\n",
       "      <td>1</td>\n",
       "      <td>@farizzlfdhl Tidak ada makan siang yg benar2 g...</td>\n",
       "      <td>1861553959762305309</td>\n",
       "      <td>NaN</td>\n",
       "      <td>farizzlfdhl</td>\n",
       "      <td>in</td>\n",
       "      <td>Zimbabwe</td>\n",
       "      <td>0</td>\n",
       "      <td>0</td>\n",
       "      <td>0</td>\n",
       "      <td>https://x.com/twkongko/status/1861553959762305309</td>\n",
       "      <td>179869955</td>\n",
       "      <td>twkongko</td>\n",
       "    </tr>\n",
       "  </tbody>\n",
       "</table>\n",
       "</div>"
      ],
      "text/plain": [
       "   conversation_id_str                      created_at  favorite_count  \\\n",
       "0  1861387822269374894  Tue Nov 26 23:59:13 +0000 2024               0   \n",
       "1  1860834003542216759  Tue Nov 26 23:58:57 +0000 2024               0   \n",
       "2  1861394482924789848  Tue Nov 26 23:53:41 +0000 2024               0   \n",
       "3  1861417843788771442  Tue Nov 26 23:36:30 +0000 2024               2   \n",
       "4  1861381567089881311  Tue Nov 26 23:33:44 +0000 2024               1   \n",
       "\n",
       "                                           full_text               id_str  \\\n",
       "0  @tvOneNews DANANYA ADA? BUAT PROGRAM MAKAN SIA...  1861560370994798888   \n",
       "1  @kegblgnunfaedh Supaya kalian Tau ..ada 2 prog...  1861560306339848404   \n",
       "2  @CNNIndonesia Lebih baik tidak usah dipaksakan...  1861558981417939075   \n",
       "3  @NenkMonica Rakyat tidak BUTUH makan Siang Gra...  1861554655878414655   \n",
       "4  @farizzlfdhl Tidak ada makan siang yg benar2 g...  1861553959762305309   \n",
       "\n",
       "  image_url in_reply_to_screen_name lang                       location  \\\n",
       "0       NaN               tvOneNews   in                            NaN   \n",
       "1       NaN          kegblgnunfaedh   in    Denpasar Selatan, Indonesia   \n",
       "2       NaN            CNNIndonesia   in  Ciamis, Jawa Barat, Indonesia   \n",
       "3       NaN              NenkMonica   in                            NaN   \n",
       "4       NaN             farizzlfdhl   in                       Zimbabwe   \n",
       "\n",
       "   quote_count  reply_count  retweet_count  \\\n",
       "0            0            0              0   \n",
       "1            0            1              0   \n",
       "2            0            0              0   \n",
       "3            0            0              1   \n",
       "4            0            0              0   \n",
       "\n",
       "                                           tweet_url          user_id_str  \\\n",
       "0  https://x.com/ZahidFaoziah/status/186156037099...  1592022417290862593   \n",
       "1  https://x.com/araapriani78/status/186156030633...           1900014060   \n",
       "2  https://x.com/MIBarokah/status/186155898141793...            400103820   \n",
       "3  https://x.com/BL3H0_212/status/186155465587841...  1570037996145213440   \n",
       "4  https://x.com/twkongko/status/1861553959762305309            179869955   \n",
       "\n",
       "       username  \n",
       "0  ZahidFaoziah  \n",
       "1  araapriani78  \n",
       "2     MIBarokah  \n",
       "3     BL3H0_212  \n",
       "4      twkongko  "
      ]
     },
     "execution_count": 94,
     "metadata": {},
     "output_type": "execute_result"
    }
   ],
   "source": [
    "df = pd.concat([df1,df2,df3], join='outer')\n",
    "df.head()"
   ]
  },
  {
   "cell_type": "code",
   "execution_count": 95,
   "id": "48ed8f0a-bd54-4eb1-b953-430734ec50a2",
   "metadata": {},
   "outputs": [
    {
     "data": {
      "text/html": [
       "<div>\n",
       "<style scoped>\n",
       "    .dataframe tbody tr th:only-of-type {\n",
       "        vertical-align: middle;\n",
       "    }\n",
       "\n",
       "    .dataframe tbody tr th {\n",
       "        vertical-align: top;\n",
       "    }\n",
       "\n",
       "    .dataframe thead th {\n",
       "        text-align: right;\n",
       "    }\n",
       "</style>\n",
       "<table border=\"1\" class=\"dataframe\">\n",
       "  <thead>\n",
       "    <tr style=\"text-align: right;\">\n",
       "      <th></th>\n",
       "      <th>conversation_id_str</th>\n",
       "      <th>created_at</th>\n",
       "      <th>favorite_count</th>\n",
       "      <th>full_text</th>\n",
       "      <th>id_str</th>\n",
       "      <th>image_url</th>\n",
       "      <th>in_reply_to_screen_name</th>\n",
       "      <th>lang</th>\n",
       "      <th>location</th>\n",
       "      <th>quote_count</th>\n",
       "      <th>reply_count</th>\n",
       "      <th>retweet_count</th>\n",
       "      <th>tweet_url</th>\n",
       "      <th>user_id_str</th>\n",
       "      <th>username</th>\n",
       "    </tr>\n",
       "  </thead>\n",
       "  <tbody>\n",
       "    <tr>\n",
       "      <th>0</th>\n",
       "      <td>1861387822269374894</td>\n",
       "      <td>Tue Nov 26 23:59:13 +0000 2024</td>\n",
       "      <td>0</td>\n",
       "      <td>@tvOneNews DANANYA ADA? BUAT PROGRAM MAKAN SIA...</td>\n",
       "      <td>1861560370994798888</td>\n",
       "      <td>NaN</td>\n",
       "      <td>tvOneNews</td>\n",
       "      <td>in</td>\n",
       "      <td>NaN</td>\n",
       "      <td>0</td>\n",
       "      <td>0</td>\n",
       "      <td>0</td>\n",
       "      <td>https://x.com/ZahidFaoziah/status/186156037099...</td>\n",
       "      <td>1592022417290862593</td>\n",
       "      <td>ZahidFaoziah</td>\n",
       "    </tr>\n",
       "    <tr>\n",
       "      <th>1</th>\n",
       "      <td>1860834003542216759</td>\n",
       "      <td>Tue Nov 26 23:58:57 +0000 2024</td>\n",
       "      <td>0</td>\n",
       "      <td>@kegblgnunfaedh Supaya kalian Tau ..ada 2 prog...</td>\n",
       "      <td>1861560306339848404</td>\n",
       "      <td>NaN</td>\n",
       "      <td>kegblgnunfaedh</td>\n",
       "      <td>in</td>\n",
       "      <td>Denpasar Selatan, Indonesia</td>\n",
       "      <td>0</td>\n",
       "      <td>1</td>\n",
       "      <td>0</td>\n",
       "      <td>https://x.com/araapriani78/status/186156030633...</td>\n",
       "      <td>1900014060</td>\n",
       "      <td>araapriani78</td>\n",
       "    </tr>\n",
       "    <tr>\n",
       "      <th>2</th>\n",
       "      <td>1861394482924789848</td>\n",
       "      <td>Tue Nov 26 23:53:41 +0000 2024</td>\n",
       "      <td>0</td>\n",
       "      <td>@CNNIndonesia Lebih baik tidak usah dipaksakan...</td>\n",
       "      <td>1861558981417939075</td>\n",
       "      <td>NaN</td>\n",
       "      <td>CNNIndonesia</td>\n",
       "      <td>in</td>\n",
       "      <td>Ciamis, Jawa Barat, Indonesia</td>\n",
       "      <td>0</td>\n",
       "      <td>0</td>\n",
       "      <td>0</td>\n",
       "      <td>https://x.com/MIBarokah/status/186155898141793...</td>\n",
       "      <td>400103820</td>\n",
       "      <td>MIBarokah</td>\n",
       "    </tr>\n",
       "    <tr>\n",
       "      <th>3</th>\n",
       "      <td>1861417843788771442</td>\n",
       "      <td>Tue Nov 26 23:36:30 +0000 2024</td>\n",
       "      <td>2</td>\n",
       "      <td>@NenkMonica Rakyat tidak BUTUH makan Siang Gra...</td>\n",
       "      <td>1861554655878414655</td>\n",
       "      <td>NaN</td>\n",
       "      <td>NenkMonica</td>\n",
       "      <td>in</td>\n",
       "      <td>NaN</td>\n",
       "      <td>0</td>\n",
       "      <td>0</td>\n",
       "      <td>1</td>\n",
       "      <td>https://x.com/BL3H0_212/status/186155465587841...</td>\n",
       "      <td>1570037996145213440</td>\n",
       "      <td>BL3H0_212</td>\n",
       "    </tr>\n",
       "    <tr>\n",
       "      <th>4</th>\n",
       "      <td>1861381567089881311</td>\n",
       "      <td>Tue Nov 26 23:33:44 +0000 2024</td>\n",
       "      <td>1</td>\n",
       "      <td>@farizzlfdhl Tidak ada makan siang yg benar2 g...</td>\n",
       "      <td>1861553959762305309</td>\n",
       "      <td>NaN</td>\n",
       "      <td>farizzlfdhl</td>\n",
       "      <td>in</td>\n",
       "      <td>Zimbabwe</td>\n",
       "      <td>0</td>\n",
       "      <td>0</td>\n",
       "      <td>0</td>\n",
       "      <td>https://x.com/twkongko/status/1861553959762305309</td>\n",
       "      <td>179869955</td>\n",
       "      <td>twkongko</td>\n",
       "    </tr>\n",
       "  </tbody>\n",
       "</table>\n",
       "</div>"
      ],
      "text/plain": [
       "   conversation_id_str                      created_at  favorite_count  \\\n",
       "0  1861387822269374894  Tue Nov 26 23:59:13 +0000 2024               0   \n",
       "1  1860834003542216759  Tue Nov 26 23:58:57 +0000 2024               0   \n",
       "2  1861394482924789848  Tue Nov 26 23:53:41 +0000 2024               0   \n",
       "3  1861417843788771442  Tue Nov 26 23:36:30 +0000 2024               2   \n",
       "4  1861381567089881311  Tue Nov 26 23:33:44 +0000 2024               1   \n",
       "\n",
       "                                           full_text               id_str  \\\n",
       "0  @tvOneNews DANANYA ADA? BUAT PROGRAM MAKAN SIA...  1861560370994798888   \n",
       "1  @kegblgnunfaedh Supaya kalian Tau ..ada 2 prog...  1861560306339848404   \n",
       "2  @CNNIndonesia Lebih baik tidak usah dipaksakan...  1861558981417939075   \n",
       "3  @NenkMonica Rakyat tidak BUTUH makan Siang Gra...  1861554655878414655   \n",
       "4  @farizzlfdhl Tidak ada makan siang yg benar2 g...  1861553959762305309   \n",
       "\n",
       "  image_url in_reply_to_screen_name lang                       location  \\\n",
       "0       NaN               tvOneNews   in                            NaN   \n",
       "1       NaN          kegblgnunfaedh   in    Denpasar Selatan, Indonesia   \n",
       "2       NaN            CNNIndonesia   in  Ciamis, Jawa Barat, Indonesia   \n",
       "3       NaN              NenkMonica   in                            NaN   \n",
       "4       NaN             farizzlfdhl   in                       Zimbabwe   \n",
       "\n",
       "   quote_count  reply_count  retweet_count  \\\n",
       "0            0            0              0   \n",
       "1            0            1              0   \n",
       "2            0            0              0   \n",
       "3            0            0              1   \n",
       "4            0            0              0   \n",
       "\n",
       "                                           tweet_url          user_id_str  \\\n",
       "0  https://x.com/ZahidFaoziah/status/186156037099...  1592022417290862593   \n",
       "1  https://x.com/araapriani78/status/186156030633...           1900014060   \n",
       "2  https://x.com/MIBarokah/status/186155898141793...            400103820   \n",
       "3  https://x.com/BL3H0_212/status/186155465587841...  1570037996145213440   \n",
       "4  https://x.com/twkongko/status/1861553959762305309            179869955   \n",
       "\n",
       "       username  \n",
       "0  ZahidFaoziah  \n",
       "1  araapriani78  \n",
       "2     MIBarokah  \n",
       "3     BL3H0_212  \n",
       "4      twkongko  "
      ]
     },
     "execution_count": 95,
     "metadata": {},
     "output_type": "execute_result"
    }
   ],
   "source": [
    "df = df.drop_duplicates()\n",
    "df.head()"
   ]
  },
  {
   "cell_type": "code",
   "execution_count": 96,
   "id": "0e190977-a9e8-41dd-9cbf-6454e135efbb",
   "metadata": {},
   "outputs": [
    {
     "data": {
      "text/plain": [
       "(869, 15)"
      ]
     },
     "execution_count": 96,
     "metadata": {},
     "output_type": "execute_result"
    }
   ],
   "source": [
    "df.shape"
   ]
  },
  {
   "cell_type": "code",
   "execution_count": 97,
   "id": "f3d072c4-73da-4253-b534-c19d11a0632b",
   "metadata": {},
   "outputs": [
    {
     "data": {
      "text/html": [
       "<div>\n",
       "<style scoped>\n",
       "    .dataframe tbody tr th:only-of-type {\n",
       "        vertical-align: middle;\n",
       "    }\n",
       "\n",
       "    .dataframe tbody tr th {\n",
       "        vertical-align: top;\n",
       "    }\n",
       "\n",
       "    .dataframe thead th {\n",
       "        text-align: right;\n",
       "    }\n",
       "</style>\n",
       "<table border=\"1\" class=\"dataframe\">\n",
       "  <thead>\n",
       "    <tr style=\"text-align: right;\">\n",
       "      <th></th>\n",
       "      <th>full_text</th>\n",
       "      <th>created_at</th>\n",
       "      <th>username</th>\n",
       "    </tr>\n",
       "  </thead>\n",
       "  <tbody>\n",
       "    <tr>\n",
       "      <th>0</th>\n",
       "      <td>@tvOneNews DANANYA ADA? BUAT PROGRAM MAKAN SIA...</td>\n",
       "      <td>Tue Nov 26 23:59:13 +0000 2024</td>\n",
       "      <td>ZahidFaoziah</td>\n",
       "    </tr>\n",
       "    <tr>\n",
       "      <th>1</th>\n",
       "      <td>@kegblgnunfaedh Supaya kalian Tau ..ada 2 prog...</td>\n",
       "      <td>Tue Nov 26 23:58:57 +0000 2024</td>\n",
       "      <td>araapriani78</td>\n",
       "    </tr>\n",
       "    <tr>\n",
       "      <th>2</th>\n",
       "      <td>@CNNIndonesia Lebih baik tidak usah dipaksakan...</td>\n",
       "      <td>Tue Nov 26 23:53:41 +0000 2024</td>\n",
       "      <td>MIBarokah</td>\n",
       "    </tr>\n",
       "    <tr>\n",
       "      <th>3</th>\n",
       "      <td>@NenkMonica Rakyat tidak BUTUH makan Siang Gra...</td>\n",
       "      <td>Tue Nov 26 23:36:30 +0000 2024</td>\n",
       "      <td>BL3H0_212</td>\n",
       "    </tr>\n",
       "    <tr>\n",
       "      <th>4</th>\n",
       "      <td>@farizzlfdhl Tidak ada makan siang yg benar2 g...</td>\n",
       "      <td>Tue Nov 26 23:33:44 +0000 2024</td>\n",
       "      <td>twkongko</td>\n",
       "    </tr>\n",
       "  </tbody>\n",
       "</table>\n",
       "</div>"
      ],
      "text/plain": [
       "                                           full_text  \\\n",
       "0  @tvOneNews DANANYA ADA? BUAT PROGRAM MAKAN SIA...   \n",
       "1  @kegblgnunfaedh Supaya kalian Tau ..ada 2 prog...   \n",
       "2  @CNNIndonesia Lebih baik tidak usah dipaksakan...   \n",
       "3  @NenkMonica Rakyat tidak BUTUH makan Siang Gra...   \n",
       "4  @farizzlfdhl Tidak ada makan siang yg benar2 g...   \n",
       "\n",
       "                       created_at      username  \n",
       "0  Tue Nov 26 23:59:13 +0000 2024  ZahidFaoziah  \n",
       "1  Tue Nov 26 23:58:57 +0000 2024  araapriani78  \n",
       "2  Tue Nov 26 23:53:41 +0000 2024     MIBarokah  \n",
       "3  Tue Nov 26 23:36:30 +0000 2024     BL3H0_212  \n",
       "4  Tue Nov 26 23:33:44 +0000 2024      twkongko  "
      ]
     },
     "execution_count": 97,
     "metadata": {},
     "output_type": "execute_result"
    }
   ],
   "source": [
    "df = df[['full_text', 'created_at', 'username']]\n",
    "df.head()"
   ]
  },
  {
   "cell_type": "markdown",
   "id": "41515d9d-982d-4a8a-81ae-a291e8dbfb87",
   "metadata": {},
   "source": [
    "# VADER"
   ]
  },
  {
   "cell_type": "code",
   "execution_count": 98,
   "id": "dff70c4e-e2b1-4c70-ba33-19dac4903c21",
   "metadata": {},
   "outputs": [
    {
     "name": "stdout",
     "output_type": "stream",
     "text": [
      "Requirement already satisfied: vaderSentiment in c:\\users\\chesa\\anaconda3\\lib\\site-packages (3.3.2)Note: you may need to restart the kernel to use updated packages.\n",
      "\n",
      "Requirement already satisfied: requests in c:\\users\\chesa\\anaconda3\\lib\\site-packages (from vaderSentiment) (2.32.3)\n",
      "Requirement already satisfied: charset-normalizer<4,>=2 in c:\\users\\chesa\\anaconda3\\lib\\site-packages (from requests->vaderSentiment) (2.0.4)\n",
      "Requirement already satisfied: idna<4,>=2.5 in c:\\users\\chesa\\anaconda3\\lib\\site-packages (from requests->vaderSentiment) (3.4)\n",
      "Requirement already satisfied: urllib3<3,>=1.21.1 in c:\\users\\chesa\\anaconda3\\lib\\site-packages (from requests->vaderSentiment) (2.0.7)\n",
      "Requirement already satisfied: certifi>=2017.4.17 in c:\\users\\chesa\\anaconda3\\lib\\site-packages (from requests->vaderSentiment) (2024.8.30)\n"
     ]
    }
   ],
   "source": [
    "pip install vaderSentiment"
   ]
  },
  {
   "cell_type": "code",
   "execution_count": 99,
   "id": "17b7199d-7aad-44b4-9725-8da68c0afbdc",
   "metadata": {},
   "outputs": [],
   "source": [
    "from vaderSentiment.vaderSentiment import SentimentIntensityAnalyzer\n",
    "sa = SentimentIntensityAnalyzer()"
   ]
  },
  {
   "cell_type": "code",
   "execution_count": 100,
   "id": "5af9f333-7696-4e74-bc51-e2286619568b",
   "metadata": {},
   "outputs": [],
   "source": [
    "def get_sentiment(text):\n",
    "    score = sa.polarity_scores(text)[\"compound\"]\n",
    "    if score >= 0.1:\n",
    "        return \"positive\"\n",
    "    elif score <= 0.1:\n",
    "        return \"negative\"\n",
    "    else:\n",
    "        return \"neutral\""
   ]
  },
  {
   "cell_type": "code",
   "execution_count": 101,
   "id": "2f046b01-1aeb-4b55-a263-d210272210a8",
   "metadata": {},
   "outputs": [],
   "source": [
    "df['sentiment'] = df['full_text'].apply(get_sentiment)"
   ]
  },
  {
   "cell_type": "code",
   "execution_count": 102,
   "id": "78d21c0f-51ae-4d2b-ac7e-6c64f8d366ce",
   "metadata": {},
   "outputs": [
    {
     "data": {
      "text/plain": [
       "sentiment\n",
       "negative    669\n",
       "positive    200\n",
       "Name: count, dtype: int64"
      ]
     },
     "execution_count": 102,
     "metadata": {},
     "output_type": "execute_result"
    }
   ],
   "source": [
    "df['sentiment'].value_counts()"
   ]
  },
  {
   "cell_type": "code",
   "execution_count": 103,
   "id": "f1b09a95-c671-49c9-8365-afaaf6e2c1f0",
   "metadata": {},
   "outputs": [
    {
     "data": {
      "text/html": [
       "<div>\n",
       "<style scoped>\n",
       "    .dataframe tbody tr th:only-of-type {\n",
       "        vertical-align: middle;\n",
       "    }\n",
       "\n",
       "    .dataframe tbody tr th {\n",
       "        vertical-align: top;\n",
       "    }\n",
       "\n",
       "    .dataframe thead th {\n",
       "        text-align: right;\n",
       "    }\n",
       "</style>\n",
       "<table border=\"1\" class=\"dataframe\">\n",
       "  <thead>\n",
       "    <tr style=\"text-align: right;\">\n",
       "      <th></th>\n",
       "      <th>full_text</th>\n",
       "      <th>created_at</th>\n",
       "      <th>username</th>\n",
       "      <th>sentiment</th>\n",
       "    </tr>\n",
       "  </thead>\n",
       "  <tbody>\n",
       "    <tr>\n",
       "      <th>0</th>\n",
       "      <td>@tvOneNews DANANYA ADA? BUAT PROGRAM MAKAN SIA...</td>\n",
       "      <td>Tue Nov 26 23:59:13 +0000 2024</td>\n",
       "      <td>ZahidFaoziah</td>\n",
       "      <td>positive</td>\n",
       "    </tr>\n",
       "    <tr>\n",
       "      <th>1</th>\n",
       "      <td>@kegblgnunfaedh Supaya kalian Tau ..ada 2 prog...</td>\n",
       "      <td>Tue Nov 26 23:58:57 +0000 2024</td>\n",
       "      <td>araapriani78</td>\n",
       "      <td>negative</td>\n",
       "    </tr>\n",
       "    <tr>\n",
       "      <th>2</th>\n",
       "      <td>@CNNIndonesia Lebih baik tidak usah dipaksakan...</td>\n",
       "      <td>Tue Nov 26 23:53:41 +0000 2024</td>\n",
       "      <td>MIBarokah</td>\n",
       "      <td>negative</td>\n",
       "    </tr>\n",
       "    <tr>\n",
       "      <th>3</th>\n",
       "      <td>@NenkMonica Rakyat tidak BUTUH makan Siang Gra...</td>\n",
       "      <td>Tue Nov 26 23:36:30 +0000 2024</td>\n",
       "      <td>BL3H0_212</td>\n",
       "      <td>positive</td>\n",
       "    </tr>\n",
       "    <tr>\n",
       "      <th>4</th>\n",
       "      <td>@farizzlfdhl Tidak ada makan siang yg benar2 g...</td>\n",
       "      <td>Tue Nov 26 23:33:44 +0000 2024</td>\n",
       "      <td>twkongko</td>\n",
       "      <td>negative</td>\n",
       "    </tr>\n",
       "    <tr>\n",
       "      <th>...</th>\n",
       "      <td>...</td>\n",
       "      <td>...</td>\n",
       "      <td>...</td>\n",
       "      <td>...</td>\n",
       "    </tr>\n",
       "    <tr>\n",
       "      <th>377</th>\n",
       "      <td>@narkosun Jadi begini porsi makan siang gratis...</td>\n",
       "      <td>Sun Nov 24 07:29:04 +0000 2024</td>\n",
       "      <td>BGomarus46046</td>\n",
       "      <td>positive</td>\n",
       "    </tr>\n",
       "    <tr>\n",
       "      <th>378</th>\n",
       "      <td>@BocorAlusPol Kalau weekend makan siang gratis...</td>\n",
       "      <td>Sun Nov 24 07:28:08 +0000 2024</td>\n",
       "      <td>DS_yantie</td>\n",
       "      <td>negative</td>\n",
       "    </tr>\n",
       "    <tr>\n",
       "      <th>379</th>\n",
       "      <td>@narkosun Tidak apa apa dek jangan takut negar...</td>\n",
       "      <td>Sun Nov 24 07:26:46 +0000 2024</td>\n",
       "      <td>BGomarus46046</td>\n",
       "      <td>negative</td>\n",
       "    </tr>\n",
       "    <tr>\n",
       "      <th>380</th>\n",
       "      <td>Makan siang gratis itu ladang korupsi dari seg...</td>\n",
       "      <td>Sun Nov 24 07:24:01 +0000 2024</td>\n",
       "      <td>jerukbusukkkk</td>\n",
       "      <td>negative</td>\n",
       "    </tr>\n",
       "    <tr>\n",
       "      <th>418</th>\n",
       "      <td>Kisah mengharukan datang dari Palembang. Devi ...</td>\n",
       "      <td>Sat Nov 23 13:03:00 +0000 2024</td>\n",
       "      <td>tvOneNews</td>\n",
       "      <td>negative</td>\n",
       "    </tr>\n",
       "  </tbody>\n",
       "</table>\n",
       "<p>869 rows × 4 columns</p>\n",
       "</div>"
      ],
      "text/plain": [
       "                                             full_text  \\\n",
       "0    @tvOneNews DANANYA ADA? BUAT PROGRAM MAKAN SIA...   \n",
       "1    @kegblgnunfaedh Supaya kalian Tau ..ada 2 prog...   \n",
       "2    @CNNIndonesia Lebih baik tidak usah dipaksakan...   \n",
       "3    @NenkMonica Rakyat tidak BUTUH makan Siang Gra...   \n",
       "4    @farizzlfdhl Tidak ada makan siang yg benar2 g...   \n",
       "..                                                 ...   \n",
       "377  @narkosun Jadi begini porsi makan siang gratis...   \n",
       "378  @BocorAlusPol Kalau weekend makan siang gratis...   \n",
       "379  @narkosun Tidak apa apa dek jangan takut negar...   \n",
       "380  Makan siang gratis itu ladang korupsi dari seg...   \n",
       "418  Kisah mengharukan datang dari Palembang. Devi ...   \n",
       "\n",
       "                         created_at       username sentiment  \n",
       "0    Tue Nov 26 23:59:13 +0000 2024   ZahidFaoziah  positive  \n",
       "1    Tue Nov 26 23:58:57 +0000 2024   araapriani78  negative  \n",
       "2    Tue Nov 26 23:53:41 +0000 2024      MIBarokah  negative  \n",
       "3    Tue Nov 26 23:36:30 +0000 2024      BL3H0_212  positive  \n",
       "4    Tue Nov 26 23:33:44 +0000 2024       twkongko  negative  \n",
       "..                              ...            ...       ...  \n",
       "377  Sun Nov 24 07:29:04 +0000 2024  BGomarus46046  positive  \n",
       "378  Sun Nov 24 07:28:08 +0000 2024      DS_yantie  negative  \n",
       "379  Sun Nov 24 07:26:46 +0000 2024  BGomarus46046  negative  \n",
       "380  Sun Nov 24 07:24:01 +0000 2024  jerukbusukkkk  negative  \n",
       "418  Sat Nov 23 13:03:00 +0000 2024      tvOneNews  negative  \n",
       "\n",
       "[869 rows x 4 columns]"
      ]
     },
     "execution_count": 103,
     "metadata": {},
     "output_type": "execute_result"
    }
   ],
   "source": [
    "df"
   ]
  },
  {
   "cell_type": "code",
   "execution_count": 104,
   "id": "78871e99-f0ed-4453-902e-64752623f9ba",
   "metadata": {},
   "outputs": [
    {
     "data": {
      "text/plain": [
       "'@NenkMonica Rakyat tidak BUTUH makan Siang Gratis tp BUTUH Pendidikan Gratis dari SD smp Universitas'"
      ]
     },
     "execution_count": 104,
     "metadata": {},
     "output_type": "execute_result"
    }
   ],
   "source": [
    "df.iloc[3,0]"
   ]
  },
  {
   "cell_type": "code",
   "execution_count": 105,
   "id": "2179ad09-acce-4e4a-b5bc-b9c9c1df8e01",
   "metadata": {},
   "outputs": [
    {
     "data": {
      "text/plain": [
       "array(['positive', 'negative'], dtype=object)"
      ]
     },
     "execution_count": 105,
     "metadata": {},
     "output_type": "execute_result"
    }
   ],
   "source": [
    "df['sentiment'].unique()"
   ]
  },
  {
   "cell_type": "code",
   "execution_count": 106,
   "id": "4d9aecbc-391b-4b00-84e7-64857327dfe3",
   "metadata": {},
   "outputs": [
    {
     "data": {
      "text/plain": [
       "Text(0, 0.5, 'Nilai Hasil')"
      ]
     },
     "execution_count": 106,
     "metadata": {},
     "output_type": "execute_result"
    },
    {
     "data": {
      "image/png": "[encoded data removed]",
      "text/plain": [
       "<Figure size 500x400 with 1 Axes>"
      ]
     },
     "metadata": {},
     "output_type": "display_data"
    }
   ],
   "source": [
    "fig, ax1 = plt.subplots(1,1, figsize=(5, 4), sharex=True)\n",
    "\n",
    "sns.countplot(x=\"sentiment\", data=df, palette=[\"b\", \"r\"], ax=ax1)\n",
    "ax1.axhline(0, color=\"k\", clip_on=False)\n",
    "ax1.set_ylabel(\"Nilai Hasil\")"
   ]
  },
  {
   "cell_type": "markdown",
   "id": "45d12ecb-21ec-4fe2-b5a2-609d65245fe7",
   "metadata": {},
   "source": [
    "# BERT"
   ]
  },
  {
   "cell_type": "code",
   "execution_count": 107,
   "id": "512e7c39-475d-4dcd-b3d4-53a1989f2a67",
   "metadata": {},
   "outputs": [
    {
     "name": "stdout",
     "output_type": "stream",
     "text": [
      "Requirement already satisfied: grapevine in c:\\users\\chesa\\anaconda3\\lib\\site-packages (1.0+py3k)\n",
      "Note: you may need to restart the kernel to use updated packages.\n"
     ]
    }
   ],
   "source": [
    "pip install --upgrade grapevine"
   ]
  },
  {
   "cell_type": "code",
   "execution_count": 116,
   "id": "66b05eae-d2c9-442a-88fa-a5daffdade8d",
   "metadata": {},
   "outputs": [],
   "source": [
    "from scipy.special import softmax\n",
    "from transformers import BertTokenizer, BertForSequenceClassification, pipeline\n",
    "import torch\n",
    "import os\n",
    "os.environ[\"HF_HUB_DISABLE_SYMLINKS_WARNING\"] = \"1\""
   ]
  },
  {
   "cell_type": "code",
   "execution_count": 117,
   "id": "c2810410-930e-4c73-9a4e-8dcea56d32a0",
   "metadata": {},
   "outputs": [
    {
     "name": "stderr",
     "output_type": "stream",
     "text": [
      "Some weights of BertForSequenceClassification were not initialized from the model checkpoint at bert-base-uncased and are newly initialized: ['classifier.bias', 'classifier.weight']\n",
      "You should probably TRAIN this model on a down-stream task to be able to use it for predictions and inference.\n"
     ]
    }
   ],
   "source": [
    "model_name = \"bert-base-uncased\"\n",
    "tokenizer = BertTokenizer.from_pretrained(model_name)\n",
    "model = BertForSequenceClassification.from_pretrained(model_name, num_labels=3)"
   ]
  },
  {
   "cell_type": "code",
   "execution_count": 119,
   "id": "c4c82c59-fa44-446b-8112-9fdc3a4b1a1e",
   "metadata": {},
   "outputs": [],
   "source": [
    "sentiment_pipeline = pipeline(\"sentiment-analysis\", model=model, tokenizer=tokenizer)"
   ]
  },
  {
   "cell_type": "code",
   "execution_count": 120,
   "id": "9a59aa6a-60bc-4eb6-a09b-8891cdb82bdb",
   "metadata": {},
   "outputs": [],
   "source": [
    "text = df['full_text']"
   ]
  },
  {
   "cell_type": "code",
   "execution_count": 121,
   "id": "4de5dafc-3f92-4675-a18b-2f5d4518b0fc",
   "metadata": {},
   "outputs": [
    {
     "ename": "ValueError",
     "evalue": "text input must be of type `str` (single example), `List[str]` (batch or single pretokenized example) or `List[List[str]]` (batch of pretokenized examples).",
     "output_type": "error",
     "traceback": [
      "\u001b[1;31m---------------------------------------------------------------------------\u001b[0m",
      "\u001b[1;31mValueError\u001b[0m                                Traceback (most recent call last)",
      "Cell \u001b[1;32mIn[121], line 1\u001b[0m\n\u001b[1;32m----> 1\u001b[0m results \u001b[38;5;241m=\u001b[39m sentiment_pipeline(text)\n",
      "File \u001b[1;32m~\\anaconda3\\Lib\\site-packages\\transformers\\pipelines\\text_classification.py:159\u001b[0m, in \u001b[0;36mTextClassificationPipeline.__call__\u001b[1;34m(self, inputs, **kwargs)\u001b[0m\n\u001b[0;32m    124\u001b[0m \u001b[38;5;250m\u001b[39m\u001b[38;5;124;03m\"\"\"\u001b[39;00m\n\u001b[0;32m    125\u001b[0m \u001b[38;5;124;03mClassify the text(s) given as inputs.\u001b[39;00m\n\u001b[0;32m    126\u001b[0m \n\u001b[1;32m   (...)\u001b[0m\n\u001b[0;32m    156\u001b[0m \u001b[38;5;124;03m    If `top_k` is used, one such dictionary is returned per label.\u001b[39;00m\n\u001b[0;32m    157\u001b[0m \u001b[38;5;124;03m\"\"\"\u001b[39;00m\n\u001b[0;32m    158\u001b[0m inputs \u001b[38;5;241m=\u001b[39m (inputs,)\n\u001b[1;32m--> 159\u001b[0m result \u001b[38;5;241m=\u001b[39m \u001b[38;5;28msuper\u001b[39m()\u001b[38;5;241m.\u001b[39m\u001b[38;5;21m__call__\u001b[39m(\u001b[38;5;241m*\u001b[39minputs, \u001b[38;5;241m*\u001b[39m\u001b[38;5;241m*\u001b[39mkwargs)\n\u001b[0;32m    160\u001b[0m \u001b[38;5;66;03m# TODO try and retrieve it in a nicer way from _sanitize_parameters.\u001b[39;00m\n\u001b[0;32m    161\u001b[0m _legacy \u001b[38;5;241m=\u001b[39m \u001b[38;5;124m\"\u001b[39m\u001b[38;5;124mtop_k\u001b[39m\u001b[38;5;124m\"\u001b[39m \u001b[38;5;129;01mnot\u001b[39;00m \u001b[38;5;129;01min\u001b[39;00m kwargs\n",
      "File \u001b[1;32m~\\anaconda3\\Lib\\site-packages\\transformers\\pipelines\\base.py:1302\u001b[0m, in \u001b[0;36mPipeline.__call__\u001b[1;34m(self, inputs, num_workers, batch_size, *args, **kwargs)\u001b[0m\n\u001b[0;32m   1294\u001b[0m     \u001b[38;5;28;01mreturn\u001b[39;00m \u001b[38;5;28mnext\u001b[39m(\n\u001b[0;32m   1295\u001b[0m         \u001b[38;5;28miter\u001b[39m(\n\u001b[0;32m   1296\u001b[0m             \u001b[38;5;28mself\u001b[39m\u001b[38;5;241m.\u001b[39mget_iterator(\n\u001b[1;32m   (...)\u001b[0m\n\u001b[0;32m   1299\u001b[0m         )\n\u001b[0;32m   1300\u001b[0m     )\n\u001b[0;32m   1301\u001b[0m \u001b[38;5;28;01melse\u001b[39;00m:\n\u001b[1;32m-> 1302\u001b[0m     \u001b[38;5;28;01mreturn\u001b[39;00m \u001b[38;5;28mself\u001b[39m\u001b[38;5;241m.\u001b[39mrun_single(inputs, preprocess_params, forward_params, postprocess_params)\n",
      "File \u001b[1;32m~\\anaconda3\\Lib\\site-packages\\transformers\\pipelines\\base.py:1308\u001b[0m, in \u001b[0;36mPipeline.run_single\u001b[1;34m(self, inputs, preprocess_params, forward_params, postprocess_params)\u001b[0m\n\u001b[0;32m   1307\u001b[0m \u001b[38;5;28;01mdef\u001b[39;00m \u001b[38;5;21mrun_single\u001b[39m(\u001b[38;5;28mself\u001b[39m, inputs, preprocess_params, forward_params, postprocess_params):\n\u001b[1;32m-> 1308\u001b[0m     model_inputs \u001b[38;5;241m=\u001b[39m \u001b[38;5;28mself\u001b[39m\u001b[38;5;241m.\u001b[39mpreprocess(inputs, \u001b[38;5;241m*\u001b[39m\u001b[38;5;241m*\u001b[39mpreprocess_params)\n\u001b[0;32m   1309\u001b[0m     model_outputs \u001b[38;5;241m=\u001b[39m \u001b[38;5;28mself\u001b[39m\u001b[38;5;241m.\u001b[39mforward(model_inputs, \u001b[38;5;241m*\u001b[39m\u001b[38;5;241m*\u001b[39mforward_params)\n\u001b[0;32m   1310\u001b[0m     outputs \u001b[38;5;241m=\u001b[39m \u001b[38;5;28mself\u001b[39m\u001b[38;5;241m.\u001b[39mpostprocess(model_outputs, \u001b[38;5;241m*\u001b[39m\u001b[38;5;241m*\u001b[39mpostprocess_params)\n",
      "File \u001b[1;32m~\\anaconda3\\Lib\\site-packages\\transformers\\pipelines\\text_classification.py:183\u001b[0m, in \u001b[0;36mTextClassificationPipeline.preprocess\u001b[1;34m(self, inputs, **tokenizer_kwargs)\u001b[0m\n\u001b[0;32m    177\u001b[0m \u001b[38;5;28;01melif\u001b[39;00m \u001b[38;5;28misinstance\u001b[39m(inputs, \u001b[38;5;28mlist\u001b[39m):\n\u001b[0;32m    178\u001b[0m     \u001b[38;5;66;03m# This is likely an invalid usage of the pipeline attempting to pass text pairs.\u001b[39;00m\n\u001b[0;32m    179\u001b[0m     \u001b[38;5;28;01mraise\u001b[39;00m \u001b[38;5;167;01mValueError\u001b[39;00m(\n\u001b[0;32m    180\u001b[0m         \u001b[38;5;124m\"\u001b[39m\u001b[38;5;124mThe pipeline received invalid inputs, if you are trying to send text pairs, you can try to send a\u001b[39m\u001b[38;5;124m\"\u001b[39m\n\u001b[0;32m    181\u001b[0m         \u001b[38;5;124m'\u001b[39m\u001b[38;5;124m dictionary `\u001b[39m\u001b[38;5;124m{\u001b[39m\u001b[38;5;124m\"\u001b[39m\u001b[38;5;124mtext\u001b[39m\u001b[38;5;124m\"\u001b[39m\u001b[38;5;124m: \u001b[39m\u001b[38;5;124m\"\u001b[39m\u001b[38;5;124mMy text\u001b[39m\u001b[38;5;124m\"\u001b[39m\u001b[38;5;124m, \u001b[39m\u001b[38;5;124m\"\u001b[39m\u001b[38;5;124mtext_pair\u001b[39m\u001b[38;5;124m\"\u001b[39m\u001b[38;5;124m: \u001b[39m\u001b[38;5;124m\"\u001b[39m\u001b[38;5;124mMy pair\u001b[39m\u001b[38;5;124m\"\u001b[39m\u001b[38;5;124m}` in order to send a text pair.\u001b[39m\u001b[38;5;124m'\u001b[39m\n\u001b[0;32m    182\u001b[0m     )\n\u001b[1;32m--> 183\u001b[0m \u001b[38;5;28;01mreturn\u001b[39;00m \u001b[38;5;28mself\u001b[39m\u001b[38;5;241m.\u001b[39mtokenizer(inputs, return_tensors\u001b[38;5;241m=\u001b[39mreturn_tensors, \u001b[38;5;241m*\u001b[39m\u001b[38;5;241m*\u001b[39mtokenizer_kwargs)\n",
      "File \u001b[1;32m~\\anaconda3\\Lib\\site-packages\\transformers\\tokenization_utils_base.py:3021\u001b[0m, in \u001b[0;36mPreTrainedTokenizerBase.__call__\u001b[1;34m(self, text, text_pair, text_target, text_pair_target, add_special_tokens, padding, truncation, max_length, stride, is_split_into_words, pad_to_multiple_of, padding_side, return_tensors, return_token_type_ids, return_attention_mask, return_overflowing_tokens, return_special_tokens_mask, return_offsets_mapping, return_length, verbose, **kwargs)\u001b[0m\n\u001b[0;32m   3019\u001b[0m     \u001b[38;5;28;01mif\u001b[39;00m \u001b[38;5;129;01mnot\u001b[39;00m \u001b[38;5;28mself\u001b[39m\u001b[38;5;241m.\u001b[39m_in_target_context_manager:\n\u001b[0;32m   3020\u001b[0m         \u001b[38;5;28mself\u001b[39m\u001b[38;5;241m.\u001b[39m_switch_to_input_mode()\n\u001b[1;32m-> 3021\u001b[0m     encodings \u001b[38;5;241m=\u001b[39m \u001b[38;5;28mself\u001b[39m\u001b[38;5;241m.\u001b[39m_call_one(text\u001b[38;5;241m=\u001b[39mtext, text_pair\u001b[38;5;241m=\u001b[39mtext_pair, \u001b[38;5;241m*\u001b[39m\u001b[38;5;241m*\u001b[39mall_kwargs)\n\u001b[0;32m   3022\u001b[0m \u001b[38;5;28;01mif\u001b[39;00m text_target \u001b[38;5;129;01mis\u001b[39;00m \u001b[38;5;129;01mnot\u001b[39;00m \u001b[38;5;28;01mNone\u001b[39;00m:\n\u001b[0;32m   3023\u001b[0m     \u001b[38;5;28mself\u001b[39m\u001b[38;5;241m.\u001b[39m_switch_to_target_mode()\n",
      "File \u001b[1;32m~\\anaconda3\\Lib\\site-packages\\transformers\\tokenization_utils_base.py:3081\u001b[0m, in \u001b[0;36mPreTrainedTokenizerBase._call_one\u001b[1;34m(self, text, text_pair, add_special_tokens, padding, truncation, max_length, stride, is_split_into_words, pad_to_multiple_of, padding_side, return_tensors, return_token_type_ids, return_attention_mask, return_overflowing_tokens, return_special_tokens_mask, return_offsets_mapping, return_length, verbose, split_special_tokens, **kwargs)\u001b[0m\n\u001b[0;32m   3078\u001b[0m         \u001b[38;5;28;01mreturn\u001b[39;00m \u001b[38;5;28;01mFalse\u001b[39;00m\n\u001b[0;32m   3080\u001b[0m \u001b[38;5;28;01mif\u001b[39;00m \u001b[38;5;129;01mnot\u001b[39;00m _is_valid_text_input(text):\n\u001b[1;32m-> 3081\u001b[0m     \u001b[38;5;28;01mraise\u001b[39;00m \u001b[38;5;167;01mValueError\u001b[39;00m(\n\u001b[0;32m   3082\u001b[0m         \u001b[38;5;124m\"\u001b[39m\u001b[38;5;124mtext input must be of type `str` (single example), `List[str]` (batch or single pretokenized example) \u001b[39m\u001b[38;5;124m\"\u001b[39m\n\u001b[0;32m   3083\u001b[0m         \u001b[38;5;124m\"\u001b[39m\u001b[38;5;124mor `List[List[str]]` (batch of pretokenized examples).\u001b[39m\u001b[38;5;124m\"\u001b[39m\n\u001b[0;32m   3084\u001b[0m     )\n\u001b[0;32m   3086\u001b[0m \u001b[38;5;28;01mif\u001b[39;00m text_pair \u001b[38;5;129;01mis\u001b[39;00m \u001b[38;5;129;01mnot\u001b[39;00m \u001b[38;5;28;01mNone\u001b[39;00m \u001b[38;5;129;01mand\u001b[39;00m \u001b[38;5;129;01mnot\u001b[39;00m _is_valid_text_input(text_pair):\n\u001b[0;32m   3087\u001b[0m     \u001b[38;5;28;01mraise\u001b[39;00m \u001b[38;5;167;01mValueError\u001b[39;00m(\n\u001b[0;32m   3088\u001b[0m         \u001b[38;5;124m\"\u001b[39m\u001b[38;5;124mtext input must be of type `str` (single example), `List[str]` (batch or single pretokenized example) \u001b[39m\u001b[38;5;124m\"\u001b[39m\n\u001b[0;32m   3089\u001b[0m         \u001b[38;5;124m\"\u001b[39m\u001b[38;5;124mor `List[List[str]]` (batch of pretokenized examples).\u001b[39m\u001b[38;5;124m\"\u001b[39m\n\u001b[0;32m   3090\u001b[0m     )\n",
      "\u001b[1;31mValueError\u001b[0m: text input must be of type `str` (single example), `List[str]` (batch or single pretokenized example) or `List[List[str]]` (batch of pretokenized examples)."
     ]
    }
   ],
   "source": [
    "results = sentiment_pipeline(text)"
   ]
  },
  {
   "cell_type": "code",
   "execution_count": null,
   "id": "4e2c8332-374f-4294-830f-f1816baffe06",
   "metadata": {},
   "outputs": [],
   "source": [
    "import re\n",
    "def clean_text(text):\n",
    "    text = re.sub(r'@\\w+', '', text) \n",
    "    text = re.sub(r'#', '', text)  \n",
    "    text = re.sub(r'http\\S+', '', text)\n",
    "    return text.strip()"
   ]
  },
  {
   "cell_type": "code",
   "execution_count": null,
   "id": "cc54c48b-b3f6-4741-b95e-692eba593d5b",
   "metadata": {},
   "outputs": [],
   "source": [
    "def predict_sentiment_multi_class(text):\n",
    "    encoded_input = tokenizer(text, return_tensors='pt', truncation=True, max_length=128, padding=True)\n",
    "    output = model(**encoded_input)\n",
    "    scores = softmax(output.logits.detach().numpy()[0])\n",
    "    labels = ['negative', 'neutral', 'positive']\n",
    "    return labels[scores.argmax()]"
   ]
  },
  {
   "cell_type": "code",
   "execution_count": null,
   "id": "416a07cc-2bb0-41c6-a4a6-4334ec2f513c",
   "metadata": {},
   "outputs": [],
   "source": [
    "df['sentiment'] = df['full_text'].apply(clean_text)"
   ]
  },
  {
   "cell_type": "code",
   "execution_count": null,
   "id": "4941aaab-b571-409a-b678-306647d4069b",
   "metadata": {},
   "outputs": [],
   "source": [
    "df['sentiment'] = df['full_text'].apply(predict_sentiment_multi_class)"
   ]
  },
  {
   "cell_type": "code",
   "execution_count": null,
   "id": "49dea756-d8b4-4991-b8f4-c5aafd1b5575",
   "metadata": {},
   "outputs": [],
   "source": [
    "fig, ax1 = plt.subplots(1,1, figsize=(5, 4), sharex=True)\n",
    "\n",
    "sns.countplot(x=\"sentiment\", data=df, palette=[\"b\", \"r\"], ax=ax1)\n",
    "ax1.axhline(0, color=\"k\", clip_on=False)\n",
    "ax1.set_ylabel(\"Nilai Hasil\")"
   ]
  },
  {
   "cell_type": "code",
   "execution_count": null,
   "id": "d237bc66-0795-4e6e-a386-e3f69cca1433",
   "metadata": {},
   "outputs": [],
   "source": [
    "df"
   ]
  },
  {
   "cell_type": "code",
   "execution_count": null,
   "id": "8ab64d19-7bbb-40fe-9513-25c749655072",
   "metadata": {},
   "outputs": [],
   "source": []
  }
 ],
 "metadata": {
  "kernelspec": {
   "display_name": "Python 3 (ipykernel)",
   "language": "python",
   "name": "python3"
  },
  "language_info": {
   "codemirror_mode": {
    "name": "ipython",
    "version": 3
   },
   "file_extension": ".py",
   "mimetype": "text/x-python",
   "name": "python",
   "nbconvert_exporter": "python",
   "pygments_lexer": "ipython3",
   "version": "3.11.7"
  }
 },
 "nbformat": 4,
 "nbformat_minor": 5
}
