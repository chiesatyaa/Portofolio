{
 "cells": [
  {
   "cell_type": "code",
   "execution_count": 145,
   "id": "28820e66-6392-4d5e-9eff-77b68c39c5ea",
   "metadata": {},
   "outputs": [],
   "source": [
    "import pandas as pd\n",
    "import numpy as np\n",
    "import matplotlib.pyplot as plt\n",
    "import seaborn as sns\n",
    "from sklearn.linear_model import LinearRegression\n",
    "sns.set()"
   ]
  },
  {
   "cell_type": "code",
   "execution_count": 146,
   "id": "5ccc667d-6b77-4e74-a0bb-25ffb11c0e56",
   "metadata": {},
   "outputs": [
    {
     "data": {
      "text/html": [
       "<div>\n",
       "<style scoped>\n",
       "    .dataframe tbody tr th:only-of-type {\n",
       "        vertical-align: middle;\n",
       "    }\n",
       "\n",
       "    .dataframe tbody tr th {\n",
       "        vertical-align: top;\n",
       "    }\n",
       "\n",
       "    .dataframe thead th {\n",
       "        text-align: right;\n",
       "    }\n",
       "</style>\n",
       "<table border=\"1\" class=\"dataframe\">\n",
       "  <thead>\n",
       "    <tr style=\"text-align: right;\">\n",
       "      <th></th>\n",
       "      <th>tahun</th>\n",
       "      <th>kategori</th>\n",
       "      <th>penduduk</th>\n",
       "      <th>pendapatan_bruto</th>\n",
       "    </tr>\n",
       "  </thead>\n",
       "  <tbody>\n",
       "    <tr>\n",
       "      <th>0</th>\n",
       "      <td>2004</td>\n",
       "      <td>Indonesia</td>\n",
       "      <td>225900000.0</td>\n",
       "      <td>2.295826e+15</td>\n",
       "    </tr>\n",
       "    <tr>\n",
       "      <th>1</th>\n",
       "      <td>2005</td>\n",
       "      <td>Indonesia</td>\n",
       "      <td>228800000.0</td>\n",
       "      <td>2.784960e+15</td>\n",
       "    </tr>\n",
       "    <tr>\n",
       "      <th>2</th>\n",
       "      <td>2006</td>\n",
       "      <td>Indonesia</td>\n",
       "      <td>231369500.0</td>\n",
       "      <td>3.338196e+15</td>\n",
       "    </tr>\n",
       "    <tr>\n",
       "      <th>3</th>\n",
       "      <td>2007</td>\n",
       "      <td>Indonesia</td>\n",
       "      <td>234900000.0</td>\n",
       "      <td>3.957404e+15</td>\n",
       "    </tr>\n",
       "    <tr>\n",
       "      <th>4</th>\n",
       "      <td>2008</td>\n",
       "      <td>Indonesia</td>\n",
       "      <td>237556400.0</td>\n",
       "      <td>4.951357e+15</td>\n",
       "    </tr>\n",
       "  </tbody>\n",
       "</table>\n",
       "</div>"
      ],
      "text/plain": [
       "   tahun   kategori     penduduk  pendapatan_bruto\n",
       "0   2004  Indonesia  225900000.0      2.295826e+15\n",
       "1   2005  Indonesia  228800000.0      2.784960e+15\n",
       "2   2006  Indonesia  231369500.0      3.338196e+15\n",
       "3   2007  Indonesia  234900000.0      3.957404e+15\n",
       "4   2008  Indonesia  237556400.0      4.951357e+15"
      ]
     },
     "execution_count": 146,
     "metadata": {},
     "output_type": "execute_result"
    }
   ],
   "source": [
    "df = pd.read_excel(\"pdb dan pdrb.xlsx\")\n",
    "df.head()"
   ]
  },
  {
   "cell_type": "code",
   "execution_count": 151,
   "id": "3675bb12-d06d-401c-998b-aad2350bee91",
   "metadata": {},
   "outputs": [
    {
     "data": {
      "text/html": [
       "<div>\n",
       "<style scoped>\n",
       "    .dataframe tbody tr th:only-of-type {\n",
       "        vertical-align: middle;\n",
       "    }\n",
       "\n",
       "    .dataframe tbody tr th {\n",
       "        vertical-align: top;\n",
       "    }\n",
       "\n",
       "    .dataframe thead th {\n",
       "        text-align: right;\n",
       "    }\n",
       "</style>\n",
       "<table border=\"1\" class=\"dataframe\">\n",
       "  <thead>\n",
       "    <tr style=\"text-align: right;\">\n",
       "      <th></th>\n",
       "      <th>tahun</th>\n",
       "      <th>kategori</th>\n",
       "      <th>penduduk</th>\n",
       "      <th>pendapatan_bruto</th>\n",
       "    </tr>\n",
       "  </thead>\n",
       "  <tbody>\n",
       "    <tr>\n",
       "      <th>0</th>\n",
       "      <td>2004</td>\n",
       "      <td>1</td>\n",
       "      <td>225900000.0</td>\n",
       "      <td>2.295826e+15</td>\n",
       "    </tr>\n",
       "    <tr>\n",
       "      <th>1</th>\n",
       "      <td>2005</td>\n",
       "      <td>1</td>\n",
       "      <td>228800000.0</td>\n",
       "      <td>2.784960e+15</td>\n",
       "    </tr>\n",
       "    <tr>\n",
       "      <th>2</th>\n",
       "      <td>2006</td>\n",
       "      <td>1</td>\n",
       "      <td>231369500.0</td>\n",
       "      <td>3.338196e+15</td>\n",
       "    </tr>\n",
       "    <tr>\n",
       "      <th>3</th>\n",
       "      <td>2007</td>\n",
       "      <td>1</td>\n",
       "      <td>234900000.0</td>\n",
       "      <td>3.957404e+15</td>\n",
       "    </tr>\n",
       "    <tr>\n",
       "      <th>4</th>\n",
       "      <td>2008</td>\n",
       "      <td>1</td>\n",
       "      <td>237556400.0</td>\n",
       "      <td>4.951357e+15</td>\n",
       "    </tr>\n",
       "  </tbody>\n",
       "</table>\n",
       "</div>"
      ],
      "text/plain": [
       "   tahun  kategori     penduduk  pendapatan_bruto\n",
       "0   2004         1  225900000.0      2.295826e+15\n",
       "1   2005         1  228800000.0      2.784960e+15\n",
       "2   2006         1  231369500.0      3.338196e+15\n",
       "3   2007         1  234900000.0      3.957404e+15\n",
       "4   2008         1  237556400.0      4.951357e+15"
      ]
     },
     "execution_count": 151,
     "metadata": {},
     "output_type": "execute_result"
    }
   ],
   "source": [
    "df['kategori'] = df['kategori'].astype('category').cat.codes\n",
    "df.head()"
   ]
  },
  {
   "cell_type": "code",
   "execution_count": 154,
   "id": "bcbeee51-1391-4a47-80b9-499eca16466e",
   "metadata": {},
   "outputs": [
    {
     "data": {
      "text/html": [
       "<div>\n",
       "<style scoped>\n",
       "    .dataframe tbody tr th:only-of-type {\n",
       "        vertical-align: middle;\n",
       "    }\n",
       "\n",
       "    .dataframe tbody tr th {\n",
       "        vertical-align: top;\n",
       "    }\n",
       "\n",
       "    .dataframe thead th {\n",
       "        text-align: right;\n",
       "    }\n",
       "</style>\n",
       "<table border=\"1\" class=\"dataframe\">\n",
       "  <thead>\n",
       "    <tr style=\"text-align: right;\">\n",
       "      <th></th>\n",
       "      <th>tahun</th>\n",
       "      <th>kategori</th>\n",
       "      <th>penduduk</th>\n",
       "      <th>pendapatan_bruto</th>\n",
       "    </tr>\n",
       "  </thead>\n",
       "  <tbody>\n",
       "    <tr>\n",
       "      <th>20</th>\n",
       "      <td>2024</td>\n",
       "      <td>1</td>\n",
       "      <td>NaN</td>\n",
       "      <td>NaN</td>\n",
       "    </tr>\n",
       "    <tr>\n",
       "      <th>21</th>\n",
       "      <td>2025</td>\n",
       "      <td>1</td>\n",
       "      <td>NaN</td>\n",
       "      <td>NaN</td>\n",
       "    </tr>\n",
       "    <tr>\n",
       "      <th>22</th>\n",
       "      <td>2026</td>\n",
       "      <td>1</td>\n",
       "      <td>NaN</td>\n",
       "      <td>NaN</td>\n",
       "    </tr>\n",
       "    <tr>\n",
       "      <th>23</th>\n",
       "      <td>2027</td>\n",
       "      <td>1</td>\n",
       "      <td>NaN</td>\n",
       "      <td>NaN</td>\n",
       "    </tr>\n",
       "    <tr>\n",
       "      <th>24</th>\n",
       "      <td>2028</td>\n",
       "      <td>1</td>\n",
       "      <td>NaN</td>\n",
       "      <td>NaN</td>\n",
       "    </tr>\n",
       "  </tbody>\n",
       "</table>\n",
       "</div>"
      ],
      "text/plain": [
       "    tahun  kategori  penduduk  pendapatan_bruto\n",
       "20   2024         1       NaN               NaN\n",
       "21   2025         1       NaN               NaN\n",
       "22   2026         1       NaN               NaN\n",
       "23   2027         1       NaN               NaN\n",
       "24   2028         1       NaN               NaN"
      ]
     },
     "execution_count": 154,
     "metadata": {},
     "output_type": "execute_result"
    }
   ],
   "source": [
    "df_nan = df[df.isna().any(axis=1)]\n",
    "df_nan.head()"
   ]
  },
  {
   "cell_type": "code",
   "execution_count": 224,
   "id": "b44b4bb1-5a91-4ccb-871b-581ef50c94ea",
   "metadata": {},
   "outputs": [
    {
     "name": "stderr",
     "output_type": "stream",
     "text": [
      "C:\\Users\\chesa\\AppData\\Local\\Temp\\ipykernel_25448\\3116013501.py:2: SettingWithCopyWarning: \n",
      "A value is trying to be set on a copy of a slice from a DataFrame.\n",
      "Try using .loc[row_indexer,col_indexer] = value instead\n",
      "\n",
      "See the caveats in the documentation: https://pandas.pydata.org/pandas-docs/stable/user_guide/indexing.html#returning-a-view-versus-a-copy\n",
      "  df_clear['kategori'] = df_clear['kategori'].astype('category').cat.codes\n"
     ]
    },
    {
     "data": {
      "text/html": [
       "<div>\n",
       "<style scoped>\n",
       "    .dataframe tbody tr th:only-of-type {\n",
       "        vertical-align: middle;\n",
       "    }\n",
       "\n",
       "    .dataframe tbody tr th {\n",
       "        vertical-align: top;\n",
       "    }\n",
       "\n",
       "    .dataframe thead th {\n",
       "        text-align: right;\n",
       "    }\n",
       "</style>\n",
       "<table border=\"1\" class=\"dataframe\">\n",
       "  <thead>\n",
       "    <tr style=\"text-align: right;\">\n",
       "      <th></th>\n",
       "      <th>tahun</th>\n",
       "      <th>kategori</th>\n",
       "      <th>penduduk</th>\n",
       "      <th>pendapatan_bruto</th>\n",
       "    </tr>\n",
       "  </thead>\n",
       "  <tbody>\n",
       "    <tr>\n",
       "      <th>0</th>\n",
       "      <td>2004</td>\n",
       "      <td>1</td>\n",
       "      <td>225900000.0</td>\n",
       "      <td>2.295826e+15</td>\n",
       "    </tr>\n",
       "    <tr>\n",
       "      <th>1</th>\n",
       "      <td>2005</td>\n",
       "      <td>1</td>\n",
       "      <td>228800000.0</td>\n",
       "      <td>2.784960e+15</td>\n",
       "    </tr>\n",
       "    <tr>\n",
       "      <th>2</th>\n",
       "      <td>2006</td>\n",
       "      <td>1</td>\n",
       "      <td>231369500.0</td>\n",
       "      <td>3.338196e+15</td>\n",
       "    </tr>\n",
       "    <tr>\n",
       "      <th>3</th>\n",
       "      <td>2007</td>\n",
       "      <td>1</td>\n",
       "      <td>234900000.0</td>\n",
       "      <td>3.957404e+15</td>\n",
       "    </tr>\n",
       "    <tr>\n",
       "      <th>4</th>\n",
       "      <td>2008</td>\n",
       "      <td>1</td>\n",
       "      <td>237556400.0</td>\n",
       "      <td>4.951357e+15</td>\n",
       "    </tr>\n",
       "  </tbody>\n",
       "</table>\n",
       "</div>"
      ],
      "text/plain": [
       "   tahun  kategori     penduduk  pendapatan_bruto\n",
       "0   2004         1  225900000.0      2.295826e+15\n",
       "1   2005         1  228800000.0      2.784960e+15\n",
       "2   2006         1  231369500.0      3.338196e+15\n",
       "3   2007         1  234900000.0      3.957404e+15\n",
       "4   2008         1  237556400.0      4.951357e+15"
      ]
     },
     "execution_count": 224,
     "metadata": {},
     "output_type": "execute_result"
    }
   ],
   "source": [
    "df_clear = df.dropna()\n",
    "df_clear['kategori'] = df_clear['kategori'].astype('category').cat.codes\n",
    "df_clear = df_clear.reset_index(drop=True)\n",
    "df_clear.head()"
   ]
  },
  {
   "cell_type": "markdown",
   "id": "6f223758-3564-4090-b539-ffc079d4bfb4",
   "metadata": {},
   "source": [
    "# Penduduk Indonesia"
   ]
  },
  {
   "cell_type": "code",
   "execution_count": 257,
   "id": "b7364ed7-8388-4bb5-8c00-8106cde3bdc9",
   "metadata": {},
   "outputs": [
    {
     "data": {
      "text/plain": [
       "(array([[2004,    1],\n",
       "        [2005,    1],\n",
       "        [2006,    1],\n",
       "        [2007,    1],\n",
       "        [2008,    1],\n",
       "        [2009,    1],\n",
       "        [2010,    1],\n",
       "        [2011,    1],\n",
       "        [2012,    1],\n",
       "        [2013,    1],\n",
       "        [2014,    1],\n",
       "        [2015,    1],\n",
       "        [2016,    1],\n",
       "        [2017,    1],\n",
       "        [2018,    1],\n",
       "        [2019,    1],\n",
       "        [2020,    1],\n",
       "        [2021,    1],\n",
       "        [2022,    1],\n",
       "        [2023,    1]], dtype=int64),\n",
       " 0     225900000.0\n",
       " 1     228800000.0\n",
       " 2     231369500.0\n",
       " 3     234900000.0\n",
       " 4     237556400.0\n",
       " 5     241000000.0\n",
       " 6     244000000.0\n",
       " 7     247100000.0\n",
       " 8     250200000.0\n",
       " 9     253300000.0\n",
       " 10    256200000.0\n",
       " 11    259100000.0\n",
       " 12    261900000.0\n",
       " 13    264500000.0\n",
       " 14    267100000.0\n",
       " 15    269600000.0\n",
       " 16    271900000.0\n",
       " 17    273800000.0\n",
       " 18    275500000.0\n",
       " 19    277500000.0\n",
       " Name: penduduk, dtype: float64,\n",
       " 20   NaN\n",
       " 21   NaN\n",
       " 22   NaN\n",
       " 23   NaN\n",
       " 24   NaN\n",
       " Name: penduduk, dtype: float64)"
      ]
     },
     "execution_count": 257,
     "metadata": {},
     "output_type": "execute_result"
    }
   ],
   "source": [
    "x_id = df_clear.iloc[:20,:2]\n",
    "y_pdid =df_clear.iloc[:20,2]\n",
    "target_pdid = df.iloc[20:25,2]\n",
    "x_pdid, y_pdid,target_pdid"
   ]
  },
  {
   "cell_type": "code",
   "execution_count": 258,
   "id": "44d350d1-6164-485f-b44f-b2a84e2e0292",
   "metadata": {},
   "outputs": [],
   "source": [
    "x_id = np.array(x_id)\n",
    "y_pdid = np.array(y_pdid)"
   ]
  },
  {
   "cell_type": "code",
   "execution_count": 259,
   "id": "f13c41ed-f7fb-47a2-8658-4ee2177a0d07",
   "metadata": {},
   "outputs": [],
   "source": [
    "x_train, x_test, y_train, y_test = train_test_split(x_id, y_pdid, test_size=0.3, random_state=42)"
   ]
  },
  {
   "cell_type": "code",
   "execution_count": 260,
   "id": "27eb671e-386c-47d8-8fa0-9ef69f82dfd1",
   "metadata": {},
   "outputs": [
    {
     "data": {
      "text/plain": [
       "array([2.27439426e+08, 2.74398849e+08, 2.68874211e+08, 2.30201745e+08,\n",
       "       2.49537978e+08, 2.41251021e+08])"
      ]
     },
     "execution_count": 260,
     "metadata": {},
     "output_type": "execute_result"
    }
   ],
   "source": [
    "from sklearn.linear_model import LinearRegression\n",
    "\n",
    "model = LinearRegression()\n",
    "model.fit(x_train, y_train)\n",
    "y_pred = model.predict(x_test)\n",
    "y_pred"
   ]
  },
  {
   "cell_type": "code",
   "execution_count": 261,
   "id": "67db0fdf-d6d1-46fc-9da5-5d83b56a56a9",
   "metadata": {},
   "outputs": [
    {
     "data": {
      "text/plain": [
       "array([2.259e+08, 2.738e+08, 2.696e+08, 2.288e+08, 2.502e+08, 2.410e+08])"
      ]
     },
     "execution_count": 261,
     "metadata": {},
     "output_type": "execute_result"
    }
   ],
   "source": [
    "y_test"
   ]
  },
  {
   "cell_type": "code",
   "execution_count": 262,
   "id": "2cc3f602-f9e0-46ca-9823-094903dae786",
   "metadata": {},
   "outputs": [
    {
     "data": {
      "text/plain": [
       "array([[nan, nan, nan, nan, nan]])"
      ]
     },
     "execution_count": 262,
     "metadata": {},
     "output_type": "execute_result"
    }
   ],
   "source": [
    "target_pdid.values.reshape(1,-1)"
   ]
  },
  {
   "cell_type": "code",
   "execution_count": 263,
   "id": "6779ec34-31b8-4fec-af40-1eeec1dedab6",
   "metadata": {},
   "outputs": [
    {
     "data": {
      "text/plain": [
       "(6,)"
      ]
     },
     "execution_count": 263,
     "metadata": {},
     "output_type": "execute_result"
    }
   ],
   "source": [
    "y_pred.shape"
   ]
  },
  {
   "cell_type": "code",
   "execution_count": 264,
   "id": "dc8b059e-3862-402e-9db4-0157c07bcc0c",
   "metadata": {},
   "outputs": [
    {
     "name": "stderr",
     "output_type": "stream",
     "text": [
      "C:\\Users\\chesa\\anaconda3\\Lib\\site-packages\\sklearn\\base.py:432: UserWarning: X has feature names, but LinearRegression was fitted without feature names\n",
      "  warnings.warn(\n"
     ]
    },
    {
     "data": {
      "text/plain": [
       "array([2.82685806e+08, 2.85448125e+08, 2.88210444e+08, 2.90972763e+08,\n",
       "       2.93735082e+08])"
      ]
     },
     "execution_count": 264,
     "metadata": {},
     "output_type": "execute_result"
    }
   ],
   "source": [
    "pd_pred = df.iloc[20:25,:2]\n",
    "pred = model.predict(pd_pred)\n",
    "pred"
   ]
  },
  {
   "cell_type": "code",
   "execution_count": 265,
   "id": "d2d48cff-a577-4287-8da4-6775dc251897",
   "metadata": {},
   "outputs": [
    {
     "data": {
      "text/plain": [
       "953565938510.1588"
      ]
     },
     "execution_count": 265,
     "metadata": {},
     "output_type": "execute_result"
    }
   ],
   "source": [
    "from sklearn.metrics import mean_squared_error\n",
    "mse = mean_squared_error(y_test, y_pred)\n",
    "mse"
   ]
  },
  {
   "cell_type": "markdown",
   "id": "e2ea216d-246a-417f-a153-75845fe5fcaa",
   "metadata": {},
   "source": [
    "# PDB Indonesia"
   ]
  },
  {
   "cell_type": "code",
   "execution_count": 267,
   "id": "f4b61e5d-d444-44e5-bb8a-6d0a14d2e68c",
   "metadata": {},
   "outputs": [],
   "source": [
    "y_pdbid = df_clear.iloc[:20,3]\n",
    "y_pdbid = np.array(y_pdbid)"
   ]
  },
  {
   "cell_type": "code",
   "execution_count": 268,
   "id": "bdfb561c-6057-4ab8-bf8a-cedc27c4b9e1",
   "metadata": {},
   "outputs": [],
   "source": [
    "x_train, x_test, y_train, y_test = train_test_split(x_id, y_pdbid, test_size=0.3, random_state=42)"
   ]
  },
  {
   "cell_type": "code",
   "execution_count": 269,
   "id": "647aa8a2-fad7-4cfd-ad7d-52d39bea7004",
   "metadata": {},
   "outputs": [
    {
     "data": {
      "text/plain": [
       "array([5.91046099e+14, 1.76513576e+16, 1.56442622e+16, 1.59459384e+15,\n",
       "       8.61942800e+15, 5.60878479e+15])"
      ]
     },
     "execution_count": 269,
     "metadata": {},
     "output_type": "execute_result"
    }
   ],
   "source": [
    "from sklearn.linear_model import LinearRegression\n",
    "\n",
    "model = LinearRegression()\n",
    "model.fit(x_train, y_train)\n",
    "y_pred = model.predict(x_test)\n",
    "y_pred"
   ]
  },
  {
   "cell_type": "code",
   "execution_count": 270,
   "id": "f4ad7d8e-fa72-47fc-aacc-6ff9fb06676d",
   "metadata": {},
   "outputs": [
    {
     "data": {
      "text/plain": [
       "array([2.29582620e+15, 1.69708000e+16, 1.51837304e+16, 2.78496040e+15,\n",
       "       8.24186430e+15, 5.61344100e+15])"
      ]
     },
     "execution_count": 270,
     "metadata": {},
     "output_type": "execute_result"
    }
   ],
   "source": [
    "y_test"
   ]
  },
  {
   "cell_type": "code",
   "execution_count": 272,
   "id": "16119b04-f4ba-4aab-86ba-90caa2d684c1",
   "metadata": {},
   "outputs": [
    {
     "name": "stderr",
     "output_type": "stream",
     "text": [
      "C:\\Users\\chesa\\anaconda3\\Lib\\site-packages\\sklearn\\base.py:432: UserWarning: X has feature names, but LinearRegression was fitted without feature names\n",
      "  warnings.warn(\n"
     ]
    },
    {
     "data": {
      "text/plain": [
       "array([2.06620009e+16, 2.16655486e+16, 2.26690963e+16, 2.36726441e+16,\n",
       "       2.46761918e+16])"
      ]
     },
     "execution_count": 272,
     "metadata": {},
     "output_type": "execute_result"
    }
   ],
   "source": [
    "pdb_pred = df.iloc[20:25,:2]\n",
    "pred = model.predict(pdb_pred)\n",
    "pred"
   ]
  },
  {
   "cell_type": "code",
   "execution_count": 273,
   "id": "c0cad041-6710-4983-be1a-5d674c653a70",
   "metadata": {},
   "outputs": [
    {
     "data": {
      "text/plain": [
       "8.568453295096111e+29"
      ]
     },
     "execution_count": 273,
     "metadata": {},
     "output_type": "execute_result"
    }
   ],
   "source": [
    "from sklearn.metrics import mean_squared_error\n",
    "mse = mean_squared_error(y_test, y_pred)\n",
    "mse"
   ]
  },
  {
   "cell_type": "markdown",
   "id": "23719239-93a8-41ac-a139-631cd96bdc9b",
   "metadata": {},
   "source": [
    "# Penduduk Jakarta"
   ]
  },
  {
   "cell_type": "code",
   "execution_count": 280,
   "id": "8e92b414-d3c1-4ee5-bd04-6bd1ef4d5a77",
   "metadata": {},
   "outputs": [
    {
     "data": {
      "text/plain": [
       "(    tahun  kategori\n",
       " 40   2004         2\n",
       " 41   2005         2\n",
       " 42   2006         2\n",
       " 43   2007         2\n",
       " 44   2008         2\n",
       " 45   2009         2\n",
       " 46   2010         2\n",
       " 47   2011         2\n",
       " 48   2012         2\n",
       " 49   2013         2\n",
       " 50   2014         2\n",
       " 51   2015         2\n",
       " 52   2016         2\n",
       " 53   2017         2\n",
       " 54   2018         2\n",
       " 55   2019         2\n",
       " 56   2020         2\n",
       " 57   2021         2\n",
       " 58   2022         2\n",
       " 59   2023         2,\n",
       " 40     8792000.0\n",
       " 41     8899000.0\n",
       " 42     9005000.0\n",
       " 43     9112000.0\n",
       " 44     9215000.0\n",
       " 45     9320000.0\n",
       " 46     9607000.0\n",
       " 47     9699000.0\n",
       " 48     9791000.0\n",
       " 49     9882000.0\n",
       " 50     9974000.0\n",
       " 51    10067000.0\n",
       " 52    10177000.0\n",
       " 53    10272000.0\n",
       " 54    10363000.0\n",
       " 55    10467000.0\n",
       " 56    10560000.0\n",
       " 57    10600000.0\n",
       " 58    10730000.0\n",
       " 59    10820000.0\n",
       " Name: penduduk, dtype: float64)"
      ]
     },
     "execution_count": 280,
     "metadata": {},
     "output_type": "execute_result"
    }
   ],
   "source": [
    "x_jkt = df_clear.iloc[40:60,:2]\n",
    "y_pdjkt = df_clear.iloc[40:60,2]\n",
    "x_jkt,y_pdjkt"
   ]
  },
  {
   "cell_type": "code",
   "execution_count": 281,
   "id": "0f26212f-8ee3-4fb1-9d4d-08f420f23cf2",
   "metadata": {},
   "outputs": [],
   "source": [
    "x_train, x_test, y_train, y_test = train_test_split(x_jkt, y_pdjkt, test_size=0.3, random_state=42)"
   ]
  },
  {
   "cell_type": "code",
   "execution_count": 282,
   "id": "82245610-ef72-4d7c-96ef-89a10ccb727d",
   "metadata": {},
   "outputs": [
    {
     "data": {
      "text/plain": [
       "array([ 8870090.20044544, 10676545.28582036, 10464021.15812919,\n",
       "        8976352.26429105,  9720186.7112101 ,  9401400.51967338])"
      ]
     },
     "execution_count": 282,
     "metadata": {},
     "output_type": "execute_result"
    }
   ],
   "source": [
    "from sklearn.linear_model import LinearRegression\n",
    "\n",
    "model = LinearRegression()\n",
    "model.fit(x_train, y_train)\n",
    "y_pred = model.predict(x_test)\n",
    "y_pred"
   ]
  },
  {
   "cell_type": "code",
   "execution_count": 283,
   "id": "3d52e354-26eb-4d29-9a1f-7bd3c9cc2154",
   "metadata": {},
   "outputs": [
    {
     "data": {
      "text/plain": [
       "40     8792000.0\n",
       "57    10600000.0\n",
       "55    10467000.0\n",
       "41     8899000.0\n",
       "48     9791000.0\n",
       "45     9320000.0\n",
       "Name: penduduk, dtype: float64"
      ]
     },
     "execution_count": 283,
     "metadata": {},
     "output_type": "execute_result"
    }
   ],
   "source": [
    "y_test"
   ]
  },
  {
   "cell_type": "code",
   "execution_count": 289,
   "id": "7c8d43ce-cc16-45c7-9256-0d3b536ecba3",
   "metadata": {},
   "outputs": [
    {
     "data": {
      "text/plain": [
       "array([10995331.47735712, 11101593.54120269, 11207855.60504827,\n",
       "       11314117.66889384, 11420379.73273945])"
      ]
     },
     "execution_count": 289,
     "metadata": {},
     "output_type": "execute_result"
    }
   ],
   "source": [
    "pdjkt_pred = df.iloc[72:78,:2]\n",
    "pred = model.predict(pdb_pred)\n",
    "pred"
   ]
  },
  {
   "cell_type": "markdown",
   "id": "b0e7df99-08a5-4103-9ebc-a077ffc64b9b",
   "metadata": {},
   "source": [
    "# PDRB Jakarta"
   ]
  },
  {
   "cell_type": "code",
   "execution_count": 308,
   "id": "4f9a84fc-ec91-42ee-af32-571a63cacb0f",
   "metadata": {},
   "outputs": [],
   "source": [
    "y_pdrbjkt = df_clear.iloc[40:60,3]"
   ]
  },
  {
   "cell_type": "code",
   "execution_count": 309,
   "id": "9e058163-e510-44e7-b35a-2af2b1461230",
   "metadata": {},
   "outputs": [],
   "source": [
    "x_train, x_test, y_train, y_test = train_test_split(x_jkt, y_pdrbjkt, test_size=0.3, random_state=42)"
   ]
  },
  {
   "cell_type": "code",
   "execution_count": 310,
   "id": "69d143f7-c2c5-4683-af22-674963b3964a",
   "metadata": {},
   "outputs": [
    {
     "data": {
      "text/plain": [
       "array([-2.58975612e+14,  2.69413200e+15,  2.34670757e+15, -8.52634001e+13,\n",
       "        1.13072209e+15,  6.09585449e+14])"
      ]
     },
     "execution_count": 310,
     "metadata": {},
     "output_type": "execute_result"
    }
   ],
   "source": [
    "from sklearn.linear_model import LinearRegression\n",
    "\n",
    "model = LinearRegression()\n",
    "model.fit(x_train, y_train)\n",
    "y_pred = model.predict(x_test)\n",
    "y_pred"
   ]
  },
  {
   "cell_type": "code",
   "execution_count": 311,
   "id": "c92aa3dd-6e45-47ed-9e91-afb02dabe796",
   "metadata": {},
   "outputs": [
    {
     "data": {
      "text/plain": [
       "40    3.659000e+14\n",
       "57    2.961600e+15\n",
       "55    2.480300e+15\n",
       "41    4.084000e+14\n",
       "48    9.592000e+14\n",
       "45    6.832000e+14\n",
       "Name: pendapatan_bruto, dtype: float64"
      ]
     },
     "execution_count": 311,
     "metadata": {},
     "output_type": "execute_result"
    }
   ],
   "source": [
    "y_test"
   ]
  },
  {
   "cell_type": "code",
   "execution_count": 312,
   "id": "e696b158-6be1-4417-b390-98d907595987",
   "metadata": {},
   "outputs": [
    {
     "data": {
      "text/plain": [
       "array([3.21526863e+15, 3.38898085e+15, 3.56269306e+15, 3.73640527e+15,\n",
       "       3.91011748e+15, 4.08382970e+15])"
      ]
     },
     "execution_count": 312,
     "metadata": {},
     "output_type": "execute_result"
    }
   ],
   "source": [
    "pdrbjkt_pred = df.iloc[72:78,:2]\n",
    "pred = model.predict(pdrbjkt_pred)\n",
    "pred"
   ]
  },
  {
   "cell_type": "markdown",
   "id": "599577d0-90fb-4340-8e09-83fc1eb127fc",
   "metadata": {},
   "source": [
    "# Penduduk Kota Bandung"
   ]
  },
  {
   "cell_type": "code",
   "execution_count": 332,
   "id": "85482038-0681-49cc-ba09-bec4f12697a5",
   "metadata": {},
   "outputs": [],
   "source": [
    "x_bdg = df_clear.iloc[20:40,:2]\n",
    "y_pdbdg = df_clear.iloc[20:40,2]"
   ]
  },
  {
   "cell_type": "code",
   "execution_count": 333,
   "id": "a9603ded-53d6-448c-9c18-e7539212d22a",
   "metadata": {},
   "outputs": [],
   "source": [
    "x_train, x_test, y_train, y_test = train_test_split(x_bdg, y_pdbdg, test_size=0.3, random_state=42)"
   ]
  },
  {
   "cell_type": "code",
   "execution_count": 334,
   "id": "4619e31f-6783-46be-bbb6-ab1984cf38b6",
   "metadata": {},
   "outputs": [
    {
     "data": {
      "text/plain": [
       "array([2338415.99109131, 2542312.1169265 , 2518324.33741648,\n",
       "       2350409.88084633, 2434367.1091314 , 2398385.43986637])"
      ]
     },
     "execution_count": 334,
     "metadata": {},
     "output_type": "execute_result"
    }
   ],
   "source": [
    "from sklearn.linear_model import LinearRegression\n",
    "\n",
    "model = LinearRegression()\n",
    "model.fit(x_train, y_train)\n",
    "y_pred = model.predict(x_test)\n",
    "y_pred"
   ]
  },
  {
   "cell_type": "code",
   "execution_count": 335,
   "id": "55ba8e0a-8b0a-4b28-9ec8-c9d7887ef8a3",
   "metadata": {},
   "outputs": [
    {
     "data": {
      "text/plain": [
       "20    2232620.0\n",
       "37    2527854.0\n",
       "35    2507888.0\n",
       "21    2315890.0\n",
       "28    2444617.0\n",
       "25    2414700.0\n",
       "Name: penduduk, dtype: float64"
      ]
     },
     "execution_count": 335,
     "metadata": {},
     "output_type": "execute_result"
    }
   ],
   "source": [
    "y_test"
   ]
  },
  {
   "cell_type": "code",
   "execution_count": 336,
   "id": "3a32e532-9f99-4e19-90ca-7a466bb5f119",
   "metadata": {},
   "outputs": [
    {
     "data": {
      "text/plain": [
       "array([2578293.78619154, 2590287.67594655, 2602281.56570156,\n",
       "       2614275.45545657, 2626269.34521158, 2638263.23496659])"
      ]
     },
     "execution_count": 336,
     "metadata": {},
     "output_type": "execute_result"
    }
   ],
   "source": [
    "pdbdg_pred = df.iloc[46:52,:2]\n",
    "pred = model.predict(pdbdg_pred)\n",
    "pred"
   ]
  },
  {
   "cell_type": "markdown",
   "id": "cd19af2b-78eb-45f7-bb38-64ec63d04877",
   "metadata": {},
   "source": [
    "# PDRB Kota Bandung"
   ]
  },
  {
   "cell_type": "code",
   "execution_count": 337,
   "id": "31560280-23bc-4cde-9e7a-bc8bf1048ce1",
   "metadata": {},
   "outputs": [],
   "source": [
    "y_pdrbbdg = df_clear.iloc[20:40,3]"
   ]
  },
  {
   "cell_type": "code",
   "execution_count": 338,
   "id": "72ebeae2-a78b-4c45-a6f5-f1eb6cffe8f3",
   "metadata": {},
   "outputs": [],
   "source": [
    "x_train, x_test, y_train, y_test = train_test_split(x_bdg, y_pdrbbdg, test_size=0.3, random_state=42)"
   ]
  },
  {
   "cell_type": "code",
   "execution_count": 339,
   "id": "932e2dd0-11f8-45f9-bb90-386e0406b8f6",
   "metadata": {},
   "outputs": [
    {
     "data": {
      "text/plain": [
       "array([-1.47124371e+13,  3.07926539e+14,  2.69969012e+14,  4.26632620e+12,\n",
       "        1.37117669e+14,  8.01813794e+13])"
      ]
     },
     "execution_count": 339,
     "metadata": {},
     "output_type": "execute_result"
    }
   ],
   "source": [
    "from sklearn.linear_model import LinearRegression\n",
    "\n",
    "model = LinearRegression()\n",
    "model.fit(x_train, y_train)\n",
    "y_pred = model.predict(x_test)\n",
    "y_pred"
   ]
  },
  {
   "cell_type": "code",
   "execution_count": 340,
   "id": "07367a83-8dea-489b-96dd-3d26408eb1f2",
   "metadata": {},
   "outputs": [
    {
     "data": {
      "text/plain": [
       "20    2.742242e+13\n",
       "37    2.971163e+14\n",
       "35    2.884609e+14\n",
       "21    3.479219e+13\n",
       "28    1.319895e+14\n",
       "25    7.028116e+13\n",
       "Name: pendapatan_bruto, dtype: float64"
      ]
     },
     "execution_count": 340,
     "metadata": {},
     "output_type": "execute_result"
    }
   ],
   "source": [
    "y_test"
   ]
  },
  {
   "cell_type": "code",
   "execution_count": 341,
   "id": "6e5e1ba2-5163-4237-982d-f23a62427d98",
   "metadata": {},
   "outputs": [
    {
     "data": {
      "text/plain": [
       "array([3.64862829e+14, 3.83841592e+14, 4.02820356e+14, 4.21799119e+14,\n",
       "       4.40777882e+14, 4.59756646e+14])"
      ]
     },
     "execution_count": 341,
     "metadata": {},
     "output_type": "execute_result"
    }
   ],
   "source": [
    "pdrbbdg_pred = df.iloc[46:52,:2]\n",
    "pred = model.predict(pdrbbdg_pred)\n",
    "pred"
   ]
  },
  {
   "cell_type": "markdown",
   "id": "9ddc11fe-c9dd-4cc5-9f58-6f73db82fb9c",
   "metadata": {},
   "source": [
    "# Penduduk Kota Semarang"
   ]
  },
  {
   "cell_type": "code",
   "execution_count": 342,
   "id": "c1874f74-d8e1-4ead-acca-4b7b13c28bbe",
   "metadata": {},
   "outputs": [],
   "source": [
    "x_smg = df_clear.iloc[60:80,:2]\n",
    "y_pdsmg = df_clear.iloc[60:80,2]"
   ]
  },
  {
   "cell_type": "code",
   "execution_count": 344,
   "id": "a652a967-9cae-4edf-a32d-5e8f77e5b83d",
   "metadata": {},
   "outputs": [],
   "source": [
    "x_train, x_test, y_train, y_test = train_test_split(x_smg, y_pdsmg, test_size=0.3, random_state=42)"
   ]
  },
  {
   "cell_type": "code",
   "execution_count": 345,
   "id": "9ae70616-22c3-440d-adc8-adcf7c601a59",
   "metadata": {},
   "outputs": [
    {
     "data": {
      "text/plain": [
       "array([1387726.12917594, 1692227.5545657 , 1656403.85746102,\n",
       "       1405637.97772828, 1531020.91759465, 1477285.37193763])"
      ]
     },
     "execution_count": 345,
     "metadata": {},
     "output_type": "execute_result"
    }
   ],
   "source": [
    "from sklearn.linear_model import LinearRegression\n",
    "\n",
    "model = LinearRegression()\n",
    "model.fit(x_train, y_train)\n",
    "y_pred = model.predict(x_test)\n",
    "y_pred"
   ]
  },
  {
   "cell_type": "code",
   "execution_count": 346,
   "id": "46c30244-44b5-4645-8200-1f9170f210be",
   "metadata": {},
   "outputs": [
    {
     "data": {
      "text/plain": [
       "60    1352000.0\n",
       "77    1660000.0\n",
       "75    1659000.0\n",
       "61    1363000.0\n",
       "68    1582000.0\n",
       "65    1407000.0\n",
       "Name: penduduk, dtype: float64"
      ]
     },
     "execution_count": 346,
     "metadata": {},
     "output_type": "execute_result"
    }
   ],
   "source": [
    "y_test"
   ]
  },
  {
   "cell_type": "code",
   "execution_count": 349,
   "id": "9dceb974-8ff6-4cfa-92f3-e91db08626fe",
   "metadata": {},
   "outputs": [
    {
     "data": {
      "text/plain": [
       "array([1745963.10022271, 1763874.94877505, 1781786.79732739,\n",
       "       1799698.64587973, 1817610.49443207, 1835522.34298441])"
      ]
     },
     "execution_count": 349,
     "metadata": {},
     "output_type": "execute_result"
    }
   ],
   "source": [
    "pdsmg_pred = df.iloc[98:104,:2]\n",
    "pred = model.predict(pdsmg_pred)\n",
    "pred"
   ]
  },
  {
   "cell_type": "markdown",
   "id": "f7e61017-7d57-4839-bd2d-0470ef83cbf3",
   "metadata": {},
   "source": [
    "# PDRB Kota Semarang"
   ]
  },
  {
   "cell_type": "code",
   "execution_count": 350,
   "id": "ce19d6ba-f19c-44a3-8de5-086c0df4b657",
   "metadata": {},
   "outputs": [],
   "source": [
    "y_pdrbsmg = df_clear.iloc[60:80,3]"
   ]
  },
  {
   "cell_type": "code",
   "execution_count": 353,
   "id": "e0fc7cdc-3ca4-4295-96da-80b27a95cdc5",
   "metadata": {},
   "outputs": [],
   "source": [
    "x_train, x_test, y_train, y_test = train_test_split(x_smg, y_pdrbsmg, test_size=0.3, random_state=42)"
   ]
  },
  {
   "cell_type": "code",
   "execution_count": 354,
   "id": "b506990a-0f48-4847-ba1a-9c45a46dc501",
   "metadata": {},
   "outputs": [
    {
     "data": {
      "text/plain": [
       "array([-2.54407701e+13,  2.09203792e+14,  1.81598550e+14, -1.16381488e+13,\n",
       "        8.49802005e+13,  4.35723365e+13])"
      ]
     },
     "execution_count": 354,
     "metadata": {},
     "output_type": "execute_result"
    }
   ],
   "source": [
    "from sklearn.linear_model import LinearRegression\n",
    "\n",
    "model = LinearRegression()\n",
    "model.fit(x_train, y_train)\n",
    "y_pred = model.predict(x_test)\n",
    "y_pred"
   ]
  },
  {
   "cell_type": "code",
   "execution_count": 355,
   "id": "d0a268e1-7dad-4254-821b-e9484134306a",
   "metadata": {},
   "outputs": [
    {
     "data": {
      "text/plain": [
       "60    2.030460e+13\n",
       "77    2.048710e+14\n",
       "75    1.913520e+14\n",
       "61    2.320822e+13\n",
       "68    5.438465e+13\n",
       "65    3.846502e+13\n",
       "Name: pendapatan_bruto, dtype: float64"
      ]
     },
     "execution_count": 355,
     "metadata": {},
     "output_type": "execute_result"
    }
   ],
   "source": [
    "y_test"
   ]
  },
  {
   "cell_type": "code",
   "execution_count": 356,
   "id": "01f143a3-6acd-4766-8a2d-216e5c899e12",
   "metadata": {},
   "outputs": [
    {
     "data": {
      "text/plain": [
       "array([2.50611656e+14, 2.64414278e+14, 2.78216899e+14, 2.92019520e+14,\n",
       "       3.05822142e+14, 3.19624763e+14])"
      ]
     },
     "execution_count": 356,
     "metadata": {},
     "output_type": "execute_result"
    }
   ],
   "source": [
    "pdsmg_pred = df.iloc[98:104,:2]\n",
    "pred = model.predict(pdsmg_pred)\n",
    "pred"
   ]
  },
  {
   "cell_type": "markdown",
   "id": "d1f57ca3-27d3-45f2-97e3-ae427a1faa54",
   "metadata": {},
   "source": [
    "# Penduduk Kota Surabaya"
   ]
  },
  {
   "cell_type": "code",
   "execution_count": 363,
   "id": "2672aee5-39fe-486b-832e-c759831521c5",
   "metadata": {},
   "outputs": [],
   "source": [
    "x_srb = df_clear.iloc[100:120,:2]\n",
    "y_pdsrb = df_clear.iloc[100:120,2]"
   ]
  },
  {
   "cell_type": "code",
   "execution_count": 364,
   "id": "ed842965-32fa-495d-9639-58e18bcc53d8",
   "metadata": {},
   "outputs": [],
   "source": [
    "x_train, x_test, y_train, y_test = train_test_split(x_srb, y_pdsrb, test_size=0.3, random_state=42)"
   ]
  },
  {
   "cell_type": "code",
   "execution_count": 365,
   "id": "2b9e2276-cb90-463f-8dcc-1fde4eec09e7",
   "metadata": {},
   "outputs": [
    {
     "data": {
      "text/plain": [
       "array([2648323.80178174, 2975640.4766147 , 2937132.6325167 ,\n",
       "       2667577.72383074, 2802355.17817372, 2744593.41202673])"
      ]
     },
     "execution_count": 365,
     "metadata": {},
     "output_type": "execute_result"
    }
   ],
   "source": [
    "from sklearn.linear_model import LinearRegression\n",
    "\n",
    "model = LinearRegression()\n",
    "model.fit(x_train, y_train)\n",
    "y_pred = model.predict(x_test)\n",
    "y_pred"
   ]
  },
  {
   "cell_type": "code",
   "execution_count": 366,
   "id": "8729985a-2fd7-4f04-91cc-2d4a200df7ff",
   "metadata": {},
   "outputs": [
    {
     "data": {
      "text/plain": [
       "100    2606000.0\n",
       "117    2905000.0\n",
       "115    2874314.0\n",
       "101    2630000.0\n",
       "108    2813000.0\n",
       "105    2730000.0\n",
       "Name: penduduk, dtype: float64"
      ]
     },
     "execution_count": 366,
     "metadata": {},
     "output_type": "execute_result"
    }
   ],
   "source": [
    "y_test"
   ]
  },
  {
   "cell_type": "code",
   "execution_count": 369,
   "id": "3ef64d84-96f8-4ccf-bb68-7f6605b87481",
   "metadata": {},
   "outputs": [
    {
     "data": {
      "text/plain": [
       "array([3033402.24276169, 3052656.16481069, 3071910.08685969,\n",
       "       3091164.00890869, 3110417.93095768, 3129671.85300668])"
      ]
     },
     "execution_count": 369,
     "metadata": {},
     "output_type": "execute_result"
    }
   ],
   "source": [
    "pdsrb_pred = df.iloc[150:157,:2]\n",
    "pred = model.predict(pdsrb_pred)\n",
    "pred"
   ]
  },
  {
   "cell_type": "markdown",
   "id": "31d543cb-776a-4879-af9a-534c54c69dc2",
   "metadata": {},
   "source": [
    "# PDRB Kota Surabaya"
   ]
  },
  {
   "cell_type": "code",
   "execution_count": 370,
   "id": "f5a681d0-7dd4-4f65-a076-b70a05e5772c",
   "metadata": {},
   "outputs": [],
   "source": [
    "y_pdrbsrb = df_clear.iloc[100:120,3]"
   ]
  },
  {
   "cell_type": "code",
   "execution_count": 371,
   "id": "f4983e46-ad6e-42cd-9267-c1c6f14809d2",
   "metadata": {},
   "outputs": [],
   "source": [
    "x_train, x_test, y_train, y_test = train_test_split(x_srb, y_pdrbsrb, test_size=0.3, random_state=42)"
   ]
  },
  {
   "cell_type": "code",
   "execution_count": 372,
   "id": "5ccf3a67-4b3d-41ca-a99a-a96c2a81e30c",
   "metadata": {},
   "outputs": [
    {
     "data": {
      "text/plain": [
       "array([2.99989644e+14, 7.84188010e+14, 7.27223497e+14, 3.28471901e+14,\n",
       "       5.27847699e+14, 4.42400928e+14])"
      ]
     },
     "execution_count": 372,
     "metadata": {},
     "output_type": "execute_result"
    }
   ],
   "source": [
    "from sklearn.linear_model import LinearRegression\n",
    "\n",
    "model = LinearRegression()\n",
    "model.fit(x_train, y_train)\n",
    "y_pred = model.predict(x_test)\n",
    "y_pred"
   ]
  },
  {
   "cell_type": "code",
   "execution_count": 374,
   "id": "0a7191a7-0c4e-4086-87cb-17e9ebb539ae",
   "metadata": {},
   "outputs": [
    {
     "data": {
      "text/plain": [
       "100    2.605000e+14\n",
       "117    9.764000e+14\n",
       "115    9.265000e+14\n",
       "101    2.854000e+14\n",
       "108    5.253000e+14\n",
       "105    4.069000e+14\n",
       "Name: pendapatan_bruto, dtype: float64"
      ]
     },
     "execution_count": 374,
     "metadata": {},
     "output_type": "execute_result"
    }
   ],
   "source": [
    "y_test"
   ]
  },
  {
   "cell_type": "code",
   "execution_count": 373,
   "id": "d64ce7f4-3cc2-41f1-a72a-d3b2e1987042",
   "metadata": {},
   "outputs": [
    {
     "data": {
      "text/plain": [
       "array([8.69634781e+14, 8.98117038e+14, 9.26599295e+14, 9.55081552e+14,\n",
       "       9.83563808e+14, 1.01204607e+15])"
      ]
     },
     "execution_count": 373,
     "metadata": {},
     "output_type": "execute_result"
    }
   ],
   "source": [
    "pdsrb_pred = df.iloc[150:157,:2]\n",
    "pred = model.predict(pdsrb_pred)\n",
    "pred"
   ]
  },
  {
   "cell_type": "markdown",
   "id": "f45eeeda-2c93-4964-8080-fab2fb6cb042",
   "metadata": {},
   "source": [
    "# Penduduk Kota Medan"
   ]
  },
  {
   "cell_type": "code",
   "execution_count": 377,
   "id": "51786912-bb1d-4fb6-89e9-7743a97f92ef",
   "metadata": {},
   "outputs": [],
   "source": [
    "x_medan = df_clear.iloc[80:100,:2]\n",
    "y_pdmedan = df_clear.iloc[80:100,2]"
   ]
  },
  {
   "cell_type": "code",
   "execution_count": 378,
   "id": "6e0526f7-f8d8-41d4-b9c8-a9bff04cce01",
   "metadata": {},
   "outputs": [],
   "source": [
    "x_train, x_test, y_train, y_test = train_test_split(x_medan, y_pdmedan, test_size=0.3, random_state=42)"
   ]
  },
  {
   "cell_type": "code",
   "execution_count": 379,
   "id": "f74caf3d-292e-4d8a-94b4-c36fafa96cf2",
   "metadata": {},
   "outputs": [
    {
     "data": {
      "text/plain": [
       "array([1977861.1481069 , 2417541.70193022, 2365814.57795101,\n",
       "       2003724.71009652, 2184769.64402376, 2107178.95805494])"
      ]
     },
     "execution_count": 379,
     "metadata": {},
     "output_type": "execute_result"
    }
   ],
   "source": [
    "from sklearn.linear_model import LinearRegression\n",
    "\n",
    "model = LinearRegression()\n",
    "model.fit(x_train, y_train)\n",
    "y_pred = model.predict(x_test)\n",
    "y_pred"
   ]
  },
  {
   "cell_type": "code",
   "execution_count": 380,
   "id": "e88b0fda-8fa1-4467-8302-23af704c2119",
   "metadata": {},
   "outputs": [
    {
     "data": {
      "text/plain": [
       "80    1990432.0\n",
       "97    2470000.0\n",
       "95    2435252.0\n",
       "81    2036185.0\n",
       "88    2168000.0\n",
       "85    2102105.0\n",
       "Name: penduduk, dtype: float64"
      ]
     },
     "execution_count": 380,
     "metadata": {},
     "output_type": "execute_result"
    }
   ],
   "source": [
    "y_test"
   ]
  },
  {
   "cell_type": "code",
   "execution_count": 386,
   "id": "26b81555-9232-488e-8a92-83043d305b77",
   "metadata": {},
   "outputs": [
    {
     "data": {
      "text/plain": [
       "array([2495132.38789903, 2520995.94988865, 2546859.51187825,\n",
       "       2572723.07386786, 2598586.63585746, 2624450.19784707])"
      ]
     },
     "execution_count": 386,
     "metadata": {},
     "output_type": "execute_result"
    }
   ],
   "source": [
    "pdmedan_pred = df.iloc[124:130,:2]\n",
    "pred = model.predict(pdmedan_pred)\n",
    "pred"
   ]
  },
  {
   "cell_type": "markdown",
   "id": "3c47a8c8-0d51-42fb-987c-141485a283c2",
   "metadata": {},
   "source": [
    "# PDRB Kota Medan"
   ]
  },
  {
   "cell_type": "code",
   "execution_count": 394,
   "id": "cec2a81a-a410-48af-a9d6-dde9248b19f7",
   "metadata": {},
   "outputs": [],
   "source": [
    "y_pdrbmedan = df_clear.iloc[80:100,3]"
   ]
  },
  {
   "cell_type": "code",
   "execution_count": 395,
   "id": "8eaa4470-babb-4a08-8f4f-ceef454e32f2",
   "metadata": {},
   "outputs": [],
   "source": [
    "x_train, x_test, y_train, y_test = train_test_split(x_medan, y_pdrbmedan, test_size=0.3, random_state=42)"
   ]
  },
  {
   "cell_type": "code",
   "execution_count": 396,
   "id": "475d6a96-80a1-4adc-aaef-882504008f51",
   "metadata": {},
   "outputs": [
    {
     "data": {
      "text/plain": [
       "array([-9.35077951e+11,  1.97774981e+14,  1.74397327e+14,  1.07537491e+13,\n",
       "        9.25755382e+13,  5.75090572e+13])"
      ]
     },
     "execution_count": 396,
     "metadata": {},
     "output_type": "execute_result"
    }
   ],
   "source": [
    "from sklearn.linear_model import LinearRegression\n",
    "\n",
    "model = LinearRegression()\n",
    "model.fit(x_train, y_train)\n",
    "y_pred = model.predict(x_test)\n",
    "y_pred"
   ]
  },
  {
   "cell_type": "code",
   "execution_count": 397,
   "id": "6d691050-c597-45a3-8dd0-c965a657974b",
   "metadata": {},
   "outputs": [
    {
     "data": {
      "text/plain": [
       "80    2.960000e+13\n",
       "97    2.054000e+14\n",
       "95    1.852000e+14\n",
       "81    3.320000e+13\n",
       "88    8.230000e+13\n",
       "85    5.540000e+13\n",
       "Name: pendapatan_bruto, dtype: float64"
      ]
     },
     "execution_count": 397,
     "metadata": {},
     "output_type": "execute_result"
    }
   ],
   "source": [
    "y_test"
   ]
  },
  {
   "cell_type": "code",
   "execution_count": 398,
   "id": "2cb84f58-b66d-4067-9492-558fb480baaa",
   "metadata": {},
   "outputs": [
    {
     "data": {
      "text/plain": [
       "array([2.32841463e+14, 2.44530290e+14, 2.56219117e+14, 2.67907944e+14,\n",
       "       2.79596771e+14, 2.91285598e+14])"
      ]
     },
     "execution_count": 398,
     "metadata": {},
     "output_type": "execute_result"
    }
   ],
   "source": [
    "pdrbmedan_pred = df.iloc[124:130,:2]\n",
    "pred = model.predict(pdmedan_pred)\n",
    "pred"
   ]
  },
  {
   "cell_type": "code",
   "execution_count": null,
   "id": "846ff38a-d56c-4dee-90ab-061bf701a6b3",
   "metadata": {},
   "outputs": [],
   "source": []
  }
 ],
 "metadata": {
  "kernelspec": {
   "display_name": "Python 3 (ipykernel)",
   "language": "python",
   "name": "python3"
  },
  "language_info": {
   "codemirror_mode": {
    "name": "ipython",
    "version": 3
   },
   "file_extension": ".py",
   "mimetype": "text/x-python",
   "name": "python",
   "nbconvert_exporter": "python",
   "pygments_lexer": "ipython3",
   "version": "3.11.7"
  }
 },
 "nbformat": 4,
 "nbformat_minor": 5
}
